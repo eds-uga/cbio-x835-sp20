{
 "cells": [
  {
   "cell_type": "markdown",
   "metadata": {
    "slideshow": {
     "slide_type": "slide"
    }
   },
   "source": [
    "# Lecture 2: Command Line Basics\n",
    "CBIO (CSCI) 4835/6835: Introduction to Computational Biology"
   ]
  },
  {
   "cell_type": "markdown",
   "metadata": {
    "slideshow": {
     "slide_type": "slide"
    }
   },
   "source": [
    "## Overview and Objectives\n",
    "\n",
    "In this lecture, we'll eschew all things Python and Biology, and focus entirely on the step before either of these: becoming familiar with the command line (or command prompt). By the end of this lecture, you should be able to:\n",
    "\n",
    " - Name the different kinds of command line \"shells\"\n",
    " - Navigate through the folders of a filesystem\n",
    " - Perform basic text parsing using bash commands"
   ]
  },
  {
   "cell_type": "markdown",
   "metadata": {
    "collapsed": true,
    "slideshow": {
     "slide_type": "slide"
    }
   },
   "source": [
    "## Part 1: BASH Basics"
   ]
  },
  {
   "cell_type": "markdown",
   "metadata": {
    "slideshow": {
     "slide_type": "fragment"
    }
   },
   "source": [
    "If you've never used a command-line before... **Don't be intimidated!**\n",
    "\n",
    "![cmdprompt](Lecture2/cmdprompt.png)"
   ]
  },
  {
   "cell_type": "markdown",
   "metadata": {
    "slideshow": {
     "slide_type": "slide"
    }
   },
   "source": [
    "### Bash is to command prompts as Windows is to operating systems\n",
    "\n",
    "Other command prompts include\n",
    " - `csh` (some would say the original: the \"C-shell\"\n",
    " - `bash` (\"bourne-again\" shell; tends to be default on most Linux and macOS systems)\n",
    " - `ksh` (Korn shell)\n",
    " - `zsh` (Z shell)"
   ]
  },
  {
   "cell_type": "markdown",
   "metadata": {
    "slideshow": {
     "slide_type": "slide"
    }
   },
   "source": [
    "### Think of the fancy point-and-click user-interfaces as running commands on a prompt behind-the-scenes whenever you click something"
   ]
  },
  {
   "cell_type": "markdown",
   "metadata": {
    "slideshow": {
     "slide_type": "fragment"
    }
   },
   "source": [
    "### I highly recommend either Linux (Ubuntu, Mint, RedHat) or macOS. The Windows MS-DOS prompt is something else entirely."
   ]
  },
  {
   "cell_type": "markdown",
   "metadata": {
    "slideshow": {
     "slide_type": "fragment"
    }
   },
   "source": [
    "If you're on a Windows machine, you can either:\n",
    " - Activate the Ubuntu shell (Windows 10 only) https://msdn.microsoft.com/en-us/commandline/wsl/install_guide\n",
    " - Install Cygwin https://www.cygwin.com/\n",
    " - Install VirtualBox ( https://www.virtualbox.org/wiki/VirtualBox ) and run an Ubuntu virtual machine inside\n",
    " - Go to the computer labs (RedHat or macOS will work)"
   ]
  },
  {
   "cell_type": "markdown",
   "metadata": {
    "slideshow": {
     "slide_type": "slide"
    }
   },
   "source": [
    "As of **Windows 10**, there is now a \"bash subsystem\" you can enable which is a *fully-functional* bash command prompt!"
   ]
  },
  {
   "cell_type": "markdown",
   "metadata": {
    "slideshow": {
     "slide_type": "fragment"
    }
   },
   "source": [
    "Follow these instructions: https://docs.microsoft.com/en-us/windows/wsl/install-win10"
   ]
  },
  {
   "cell_type": "markdown",
   "metadata": {
    "slideshow": {
     "slide_type": "fragment"
    }
   },
   "source": [
    "Once the subsystem is installed, you can configure it following these instructions: https://docs.microsoft.com/en-us/windows/wsl/initialize-distro"
   ]
  },
  {
   "cell_type": "markdown",
   "metadata": {
    "slideshow": {
     "slide_type": "fragment"
    }
   },
   "source": [
    "I'd highly recommend this! You'll be able to tinker with the command line through JupyterHub, but it's really nice to have on your own machine."
   ]
  },
  {
   "cell_type": "markdown",
   "metadata": {
    "slideshow": {
     "slide_type": "slide"
    }
   },
   "source": [
    "I have a macOS laptop, an Ubuntu workstation, a bunch of RedHat servers, and a Windows 10 home desktop.\n",
    "\n",
    "I'm most at home with either macOS or Ubuntu.\n",
    "\n",
    "**It's like learning another language**: you'll only get better at it if you **immerse yourself in it**, even when you don't want to."
   ]
  },
  {
   "cell_type": "markdown",
   "metadata": {
    "slideshow": {
     "slide_type": "slide"
    }
   },
   "source": [
    "### Diving in!\n",
    "\n",
    "You've fired up the command prompt (or `Terminal` in macOS). How do you see what's in the current folder?"
   ]
  },
  {
   "cell_type": "markdown",
   "metadata": {
    "slideshow": {
     "slide_type": "fragment"
    }
   },
   "source": [
    "<pre>\n",
    "Last login: Mon Jan  9 18:36:07 on ttys006\n",
    "example1:~ squinn$ ls\n",
    "Applications   Dropbox        Music          SpiderOak Hive\n",
    "Desktop        Google Drive   Pictures       metastore_db\n",
    "Documents      Library        Programming    nltk_data\n",
    "Downloads      Movies         Public         rodeo.log\n",
    "example1:~ squinn$ \n",
    "</pre>"
   ]
  },
  {
   "cell_type": "markdown",
   "metadata": {
    "slideshow": {
     "slide_type": "slide"
    }
   },
   "source": [
    "### `ls`\n",
    "\n",
    "Allows you to view the contents of the current directory--folders and files.\n",
    "\n",
    "But how do we tell the difference between the two? **Use an optional `-l` flag.**"
   ]
  },
  {
   "cell_type": "markdown",
   "metadata": {
    "slideshow": {
     "slide_type": "slide"
    }
   },
   "source": [
    "### (aside: \"flags\" are options to commands that slightly tweak their behavior to account for different user intentions--like \"quit\" versus \"force quit\")"
   ]
  },
  {
   "cell_type": "markdown",
   "metadata": {
    "slideshow": {
     "slide_type": "slide"
    }
   },
   "source": [
    "<pre>\n",
    "example1:~ squinn$ ls -l\n",
    "total 264\n",
    "drwx------   7 squinn  staff     238 Oct 23  2015 Applications\n",
    "drwx------+ 59 squinn  staff    2006 Jan  9 17:49 Desktop\n",
    "drwx------+ 20 squinn  staff     680 Dec 23 09:35 Documents\n",
    "drwx------+  5 squinn  staff     170 Jan  9 18:27 Downloads\n",
    "drwx------@ 17 squinn  staff     578 Jan  8 18:03 Dropbox\n",
    "drwx------@ 49 squinn  staff    1666 Jan  4 15:47 Google Drive\n",
    "drwx------+ 74 squinn  staff    2516 Nov 17 15:06 Library\n",
    "drwx------+  6 squinn  staff     204 May 20  2015 Movies\n",
    "drwx------+  5 squinn  staff     170 Oct 22  2014 Music\n",
    "drwx------+ 18 squinn  staff     612 Jul 29 11:31 Pictures\n",
    "drwxr-xr-x  37 squinn  staff    1258 Jan  4 15:57 Programming\n",
    "drwxr-xr-x+  5 squinn  staff     170 Oct 21  2014 Public\n",
    "drwx------@  8 squinn  staff     272 Jun 30  2015 SpiderOak Hive\n",
    "drwxr-xr-x   9 squinn  staff     306 Sep 17  2015 metastore_db\n",
    "drwxr-xr-x   4 squinn  staff     136 Apr 27  2016 nltk_data\n",
    "-rw-r--r--   1 squinn  staff  131269 Jan  9 18:32 rodeo.log\n",
    "example1:~ squinn$\n",
    "</pre>"
   ]
  },
  {
   "cell_type": "markdown",
   "metadata": {
    "slideshow": {
     "slide_type": "fragment"
    }
   },
   "source": [
    "Anything that starts with a `d` on the left is a folder (or **directory**), otherwise it's a file."
   ]
  },
  {
   "cell_type": "markdown",
   "metadata": {
    "slideshow": {
     "slide_type": "slide"
    }
   },
   "source": [
    "Ok, that's cool. I can tell what is what where I currently am. ...but wait, how do I even know where I am?"
   ]
  },
  {
   "cell_type": "markdown",
   "metadata": {
    "slideshow": {
     "slide_type": "fragment"
    }
   },
   "source": [
    "<pre>\n",
    "example1:~ squinn$ pwd\n",
    "/home/squinn\n",
    "example1:~ squinn$\n",
    "</pre>"
   ]
  },
  {
   "cell_type": "markdown",
   "metadata": {
    "slideshow": {
     "slide_type": "slide"
    }
   },
   "source": [
    "### `pwd`\n",
    "\n",
    "Pretty straightforward--stands for **P**rint **W**orking **D**irectory. Gives you the full path to where you are currently working. Not really any other needed optional flags."
   ]
  },
  {
   "cell_type": "markdown",
   "metadata": {
    "slideshow": {
     "slide_type": "slide"
    }
   },
   "source": [
    "Great! Now I know where I am, and what is what where I am. How do I move somewhere else?\n",
    "\n",
    "This would be the same thing as double-clicking a folder to move into it."
   ]
  },
  {
   "cell_type": "markdown",
   "metadata": {
    "slideshow": {
     "slide_type": "fragment"
    }
   },
   "source": [
    "<pre>\n",
    "example1:~ squinn$ cd Music/\n",
    "example1:Music squinn$ ls\n",
    "iTunes\n",
    "example1:Music squinn$ \n",
    "</pre>"
   ]
  },
  {
   "cell_type": "markdown",
   "metadata": {
    "slideshow": {
     "slide_type": "fragment"
    }
   },
   "source": [
    "You'll notice the output of the `ls` command has now changed, which hopefully isn't surprising.\n",
    "\n",
    "Since we've **C**hanged **D**irectories with the `cd` command--you essentially double-clicked the \"Music\" folder--now we're in a different folder with different contents; in this case, a lone \"iTunes\" folder."
   ]
  },
  {
   "cell_type": "markdown",
   "metadata": {
    "slideshow": {
     "slide_type": "slide"
    }
   },
   "source": [
    "Folders within folders represent a recursive hierarchy. We won't delve too much into this concept, except to say that, unless you're in the **root directory** (`/` on Linux, `C:\\` on Windows), there is always a **parent directory**--the enclosing folder around the folder you are currently in."
   ]
  },
  {
   "cell_type": "markdown",
   "metadata": {
    "slideshow": {
     "slide_type": "fragment"
    }
   },
   "source": [
    "This gives rise to a *hierarchical* structure of folders.\n",
    "\n",
    "![folders](Lecture2/directory.png)"
   ]
  },
  {
   "cell_type": "markdown",
   "metadata": {
    "slideshow": {
     "slide_type": "slide"
    }
   },
   "source": [
    "Therefore, while you can always change to a very specific directory by supplying the _full_ path--"
   ]
  },
  {
   "cell_type": "markdown",
   "metadata": {
    "slideshow": {
     "slide_type": "fragment"
    }
   },
   "source": [
    "<pre>\n",
    "example1:~ squinn$ cd /home/squinn/Dropbox\n",
    "example1:Dropbox squinn$ ls\n",
    "Cilia_Papers     Imaging_Papers   OdorAnalysis     Public\n",
    "Computer Case    LandUseChange    OrNet            cilia movies\n",
    "Icon?            NSF_BigData_2015 OrNet Videos\n",
    "example1:Dropbox squinn$\n",
    "</pre>"
   ]
  },
  {
   "cell_type": "markdown",
   "metadata": {
    "slideshow": {
     "slide_type": "fragment"
    }
   },
   "source": [
    "--I can also navigate to the parent folder of my current location, irrespective of my *specific* location, using the special `..` notation."
   ]
  },
  {
   "cell_type": "markdown",
   "metadata": {
    "slideshow": {
     "slide_type": "slide"
    }
   },
   "source": [
    "### `cd ..`\n",
    "\n",
    "Takes you up one level to the parent directory of where you currently are.\n",
    "\n",
    "<pre>\n",
    "example1:Dropbox squinn$ pwd\n",
    "/home/squinn/Dropbox\n",
    "example1:Dropbox squinn$ cd ..\n",
    "example1:~ squinn$ pwd\n",
    "/home/squinn\n",
    "example1:~ squinn$\n",
    "</pre>"
   ]
  },
  {
   "cell_type": "markdown",
   "metadata": {
    "slideshow": {
     "slide_type": "slide"
    }
   },
   "source": [
    "### Relative paths vs Absolute paths"
   ]
  },
  {
   "cell_type": "markdown",
   "metadata": {},
   "source": [
    "It's important to distinguish _relative_ versus _absolute_ paths when you're changing directories."
   ]
  },
  {
   "cell_type": "markdown",
   "metadata": {
    "slideshow": {
     "slide_type": "fragment"
    }
   },
   "source": [
    " - A **relative** path is one that is _relative_ (hence, the name) to your current location. The \"`..`\" path is a good example: it means \"go to the parent directory of wherever I am now\". That \"wherever I am now\" is the _relative_ part, so typing \"`cd ..`\" will put you in a different parent directory depending on where you start."
   ]
  },
  {
   "cell_type": "markdown",
   "metadata": {
    "slideshow": {
     "slide_type": "fragment"
    }
   },
   "source": [
    " - An **absolute** path is one that is _always the same_, no matter where you start. For instance, typing \"`cd /home/squinn`\" will always always take me to the \"`/home/squinn`\" folder, no matter where I was when I typed the command."
   ]
  },
  {
   "cell_type": "markdown",
   "metadata": {
    "slideshow": {
     "slide_type": "slide"
    }
   },
   "source": [
    "### Relative or Absolute?"
   ]
  },
  {
   "cell_type": "markdown",
   "metadata": {
    "slideshow": {
     "slide_type": "fragment"
    }
   },
   "source": [
    "`..`"
   ]
  },
  {
   "cell_type": "markdown",
   "metadata": {
    "slideshow": {
     "slide_type": "fragment"
    }
   },
   "source": [
    "`/tmp/file.txt`"
   ]
  },
  {
   "cell_type": "markdown",
   "metadata": {
    "slideshow": {
     "slide_type": "fragment"
    }
   },
   "source": [
    "`some/folder/file.txt`"
   ]
  },
  {
   "cell_type": "markdown",
   "metadata": {
    "slideshow": {
     "slide_type": "fragment"
    }
   },
   "source": [
    "Found the pattern yet?"
   ]
  },
  {
   "cell_type": "markdown",
   "metadata": {
    "slideshow": {
     "slide_type": "fragment"
    }
   },
   "source": [
    "**Anything with a preceding `/` is an _absolute_ path; otherwise, it is considered _relative_.**"
   ]
  },
  {
   "cell_type": "markdown",
   "metadata": {
    "slideshow": {
     "slide_type": "slide"
    }
   },
   "source": [
    "Let's see some other examples!"
   ]
  },
  {
   "cell_type": "markdown",
   "metadata": {
    "slideshow": {
     "slide_type": "fragment"
    }
   },
   "source": [
    "<pre>\n",
    "example1: squinn$ ls\n",
    "Lecture1.ipynb\n",
    "example1: squinn$ ls -l\n",
    "total 40\n",
    "-rw-r--r--  1 squinn  staff  18620 Jan  5 19:54 Lecture1.ipynb\n",
    "example1: squinn$ pwd\n",
    "/home/squinn/teaching/4835/lectures\n",
    "example1: squinn$ cd ..\n",
    "example1: squinn$ pwd\n",
    "</pre>\n",
    "\n",
    "What prints out?\n",
    " - `~/`\n",
    " - `/home/squinn`\n",
    " - `/home/squinn/teaching`\n",
    " - `/home/squinn/teaching/4835`\n",
    " - An Error"
   ]
  },
  {
   "cell_type": "markdown",
   "metadata": {
    "slideshow": {
     "slide_type": "slide"
    }
   },
   "source": [
    "<pre>\n",
    "$ ls -l\n",
    "total 8\n",
    "-rw-rw-r-- 1 squinn staff   19 Sep  3 09:08 hello.txt\n",
    "drwxrwxr-x 2 squinn staff 4096 Sep  3 09:08 lecture\n",
    "$ ls *.txt\n",
    "</pre>\n",
    "\n",
    "What prints out?\n",
    " - `hello.txt`\n",
    " - `*.txt`\n",
    " - `hello.txt lecture`\n",
    " - An Error"
   ]
  },
  {
   "cell_type": "markdown",
   "metadata": {
    "slideshow": {
     "slide_type": "slide"
    }
   },
   "source": [
    "### Spacing Out"
   ]
  },
  {
   "cell_type": "markdown",
   "metadata": {},
   "source": [
    "<tt>du</tt> - disk usage of files/directores\n",
    "<pre>\n",
    "[squinn tmp]$ du -s\n",
    "146564\t.\n",
    "[squinn tmp]$ du -sh\n",
    "144M\t.\n",
    "[squinn tmp]$ du -sh intro\n",
    "4.0K\tintro\n",
    "</pre>"
   ]
  },
  {
   "cell_type": "markdown",
   "metadata": {
    "slideshow": {
     "slide_type": "fragment"
    }
   },
   "source": [
    "<tt>df</tt> - usage of full disk\n",
    "\n",
    "<pre>\n",
    "[squinn tmp]$ df -h .\n",
    "Filesystem      Size  Used Avail Use% Mounted on\n",
    "pulsar:/home     37T   28T  9.3T  75% /net/pulsar/home\n",
    "</pre>"
   ]
  },
  {
   "cell_type": "markdown",
   "metadata": {
    "slideshow": {
     "slide_type": "slide"
    }
   },
   "source": [
    "### Dude, where's my stuff?\n",
    "\n",
    "From time to time, you'll probably be wondering where you can find certain things."
   ]
  },
  {
   "cell_type": "markdown",
   "metadata": {
    "slideshow": {
     "slide_type": "fragment"
    }
   },
   "source": [
    " - <tt>locate</tt>: find a file system wide. This requires a pre-built database of your filesystem, so you may need to run `updatedb` first, and every time you install something new. But it's *super efficient.*"
   ]
  },
  {
   "cell_type": "markdown",
   "metadata": {
    "slideshow": {
     "slide_type": "fragment"
    }
   },
   "source": [
    " - <tt>find</tt>: search directory tree. This does an actual manual search of your hard disk every time it runs, so it can be *really slow* if you search absolutely everything. But consequently it doesn't require rebuilding a database every time you add a new file."
   ]
  },
  {
   "cell_type": "markdown",
   "metadata": {
    "slideshow": {
     "slide_type": "slide"
    }
   },
   "source": [
    " - <tt>which</tt>: print location of a command. Let's say you're running a command (like `python`) and want to know where it's installed on your computer. You can saw `which python` and it will tell you."
   ]
  },
  {
   "cell_type": "markdown",
   "metadata": {
    "slideshow": {
     "slide_type": "fragment"
    }
   },
   "source": [
    " - <tt>man</tt>: print manual page of a command. \"Manual pages\", or \"man pages\", are the built-in linux manuals for all the commands you could ever need. Just type `man <command>` to learn more than you ever cared to know about how to use it!"
   ]
  },
  {
   "cell_type": "markdown",
   "metadata": {
    "slideshow": {
     "slide_type": "slide"
    }
   },
   "source": [
    "### Save the Environment\n",
    "\n",
    "\"Environment variables\" are ways of storing little bits of information for you to re-use in your commands. We'll see a version of this in Python, too!"
   ]
  },
  {
   "cell_type": "markdown",
   "metadata": {
    "slideshow": {
     "slide_type": "fragment"
    }
   },
   "source": [
    "`NAME=value`: set NAME equal to value **No spaces around equals**"
   ]
  },
  {
   "cell_type": "markdown",
   "metadata": {
    "slideshow": {
     "slide_type": "fragment"
    }
   },
   "source": [
    "`export NAME=value`: set NAME equal to value and make it stick"
   ]
  },
  {
   "cell_type": "markdown",
   "metadata": {
    "slideshow": {
     "slide_type": "slide"
    }
   },
   "source": [
    "`\\$`: *dereference* variable. This is a fancy way of saying \"use this variable in something useful.\" As an example:"
   ]
  },
  {
   "cell_type": "markdown",
   "metadata": {},
   "source": [
    "<pre>\n",
    "$> X=3\n",
    "$> echo $X\n",
    "3\n",
    "$> X=hello\n",
    "$> echo $X\n",
    "hello\n",
    "$> echo X\n",
    "X\n",
    "</pre>"
   ]
  },
  {
   "cell_type": "markdown",
   "metadata": {
    "slideshow": {
     "slide_type": "slide"
    }
   },
   "source": [
    "### Getting at your variables\n",
    "\n",
    "Which does **not** print the value of X?\n",
    " - `echo $X`\n",
    " - `echo ${X}`\n",
    " - `echo '$X'`\n",
    " - `echo \"$X\"`"
   ]
  },
  {
   "cell_type": "markdown",
   "metadata": {
    "slideshow": {
     "slide_type": "slide"
    }
   },
   "source": [
    "### Capturing Output\n",
    "\n",
    "<tt>`cmd`</tt> evaluates to output of cmd\n",
    "<pre>\n",
    "$ FILES=`ls`\n",
    "$ echo $FILES \n",
    "hello.txt lecture\n",
    "</pre>"
   ]
  },
  {
   "cell_type": "markdown",
   "metadata": {
    "slideshow": {
     "slide_type": "fragment"
    }
   },
   "source": [
    "It's a little tricky! The key is to notice the little \"backtick\" operators--these things \"\\`\"--that enclose the command you want to run."
   ]
  },
  {
   "cell_type": "markdown",
   "metadata": {},
   "source": [
    "Then mentally substitute that command in for its variable, and hopefully you kinda see how it works."
   ]
  },
  {
   "cell_type": "markdown",
   "metadata": {
    "slideshow": {
     "slide_type": "slide"
    }
   },
   "source": [
    "### Your Environment\n",
    "\n",
    "<tt>env</tt> list all set environment variables (the variables we defined from before)"
   ]
  },
  {
   "cell_type": "markdown",
   "metadata": {
    "slideshow": {
     "slide_type": "fragment"
    }
   },
   "source": [
    "<tt>PATH</tt> where shell searches for commands. It is _VERY IMPORTANT_ that you leave this variable alone unless you know what you're doing. Although it's kind of inevitable that everyone who uses the command line nukes this variable accidentally at least once..."
   ]
  },
  {
   "cell_type": "markdown",
   "metadata": {
    "slideshow": {
     "slide_type": "fragment"
    }
   },
   "source": [
    "<tt>LD_LIBRARY_PATH</tt> library search path (don't worry about this too much)"
   ]
  },
  {
   "cell_type": "markdown",
   "metadata": {
    "slideshow": {
     "slide_type": "fragment"
    }
   },
   "source": [
    "<tt>PYTHONPATH</tt> where python searches for modules (also don't worry about this, especially if you just use JupyterHub for everything)"
   ]
  },
  {
   "cell_type": "markdown",
   "metadata": {
    "slideshow": {
     "slide_type": "fragment"
    }
   },
   "source": [
    "<tt>.bashrc</tt> initialization file for bash - set PATH etc. This is like a \"startup\" file that's run every time you open the command prompt, so if there are any variables you want to take on specific values every single time you open up a terminal, this is the place to set them."
   ]
  },
  {
   "cell_type": "markdown",
   "metadata": {
    "slideshow": {
     "slide_type": "slide"
    }
   },
   "source": [
    "### History\n",
    "\n",
    "After you've been using the terminal for awhile, you may want to look at all the commands you've run! Or perhaps it took you awhile to figure out exactly how to run a command, and a few days/weeks/months later you find you need to run that command again. There are ways of looking into your command history:"
   ]
  },
  {
   "cell_type": "markdown",
   "metadata": {
    "slideshow": {
     "slide_type": "fragment"
    }
   },
   "source": [
    "<tt>history</tt> show commands previously issued"
   ]
  },
  {
   "cell_type": "markdown",
   "metadata": {},
   "source": [
    "<tt>up arrow</tt> cycle through previous commands"
   ]
  },
  {
   "cell_type": "markdown",
   "metadata": {
    "slideshow": {
     "slide_type": "slide"
    }
   },
   "source": [
    "<tt>Ctrl-R</tt> search through history for command **AWESOME**"
   ]
  },
  {
   "cell_type": "markdown",
   "metadata": {
    "slideshow": {
     "slide_type": "fragment"
    }
   },
   "source": [
    "<tt>.bash_history</tt> file that stores the history"
   ]
  },
  {
   "cell_type": "markdown",
   "metadata": {
    "slideshow": {
     "slide_type": "fragment"
    }
   },
   "source": [
    "<tt>HISTCONTROL</tt> environment variable that sets history options: ignoredups"
   ]
  },
  {
   "cell_type": "markdown",
   "metadata": {},
   "source": [
    "<tt>HISTSIZE</tt> size of history buffer"
   ]
  },
  {
   "cell_type": "markdown",
   "metadata": {
    "slideshow": {
     "slide_type": "slide"
    }
   },
   "source": [
    "### Shortcuts\n",
    "\n",
    "Some clever shortcuts on the command line. By definition, they're not necessary, but they can make your work more efficient."
   ]
  },
  {
   "cell_type": "markdown",
   "metadata": {
    "slideshow": {
     "slide_type": "fragment"
    }
   },
   "source": [
    "<tt>Tab</tt> autocomplete"
   ]
  },
  {
   "cell_type": "markdown",
   "metadata": {
    "slideshow": {
     "slide_type": "fragment"
    }
   },
   "source": [
    "<tt>Ctrl-D</tt>  EOF/logout/exit"
   ]
  },
  {
   "cell_type": "markdown",
   "metadata": {
    "slideshow": {
     "slide_type": "fragment"
    }
   },
   "source": [
    "<tt>Ctrl-A</tt>  go to beginning of line"
   ]
  },
  {
   "cell_type": "markdown",
   "metadata": {},
   "source": [
    "<tt>Ctrl-E</tt>  go to end of line"
   ]
  },
  {
   "cell_type": "markdown",
   "metadata": {
    "slideshow": {
     "slide_type": "slide"
    }
   },
   "source": [
    "<tt>alias new=cmd</tt>. This is a fun one: if you don't like how certain commands are named, you can make up your own!"
   ]
  },
  {
   "cell_type": "markdown",
   "metadata": {
    "slideshow": {
     "slide_type": "fragment"
    }
   },
   "source": [
    "<pre>\n",
    "make a nickname for a command\n",
    "$ alias l='ls -l'\n",
    "$ alias\n",
    "$ l\n",
    "total 40\n",
    "-rw-r--r--  1 squinn  staff  18620 Jan  5 19:54 Lecture1.ipynb\n",
    "</pre>\n",
    "\n",
    "which is the output of `ls -l` that we saw earlier!"
   ]
  },
  {
   "cell_type": "markdown",
   "metadata": {
    "slideshow": {
     "slide_type": "slide"
    }
   },
   "source": [
    "### Commands\n",
    "\n",
    "The first word you type is the program you want to run.  <tt>bash</tt> will search <tt>PATH</tt> for an appropriately named executable and run it with the specified arguments."
   ]
  },
  {
   "cell_type": "markdown",
   "metadata": {
    "slideshow": {
     "slide_type": "fragment"
    }
   },
   "source": [
    "Some example commands we'll be using a lot:"
   ]
  },
  {
   "cell_type": "markdown",
   "metadata": {},
   "source": [
    "* <tt>ipython<tt> - start interactive python shell (more later)\n",
    "* <tt>ssh</tt> *hostname*  - connect to *hostname*\n",
    "* <tt>passwd</tt> - change your password\n",
    "* <tt>nano</tt> - a user-friendly text editor\n",
    "\n",
    "## <tt>ssh</tt> into <tt>jupyterhub.cs.uga.edu</tt> and change your password"
   ]
  },
  {
   "cell_type": "markdown",
   "metadata": {
    "slideshow": {
     "slide_type": "slide"
    }
   },
   "source": [
    "## Part 2: Text Manipulation"
   ]
  },
  {
   "cell_type": "markdown",
   "metadata": {
    "slideshow": {
     "slide_type": "-"
    }
   },
   "source": [
    "First, a quick review: some of the commands we just covered that will be coming back here."
   ]
  },
  {
   "cell_type": "markdown",
   "metadata": {
    "slideshow": {
     "slide_type": "fragment"
    }
   },
   "source": [
    " - <tt>ls</tt> - list files\n",
    " - <tt>cd</tt> - change directory\n",
    " - <tt>pwd</tt> - print working (current) directory\n",
    " - <tt>..</tt> - special file that refers to parent directory\n",
    " - <tt>.</tt> - the current directory\n",
    " - <tt>cat <em>file</em></tt> - **NEW COMMAND**: prints out the contents of the file\n",
    " - <tt>more <em>file</em></tt> - **NEW COMMAND**: _gently_ prints out the contents of a file"
   ]
  },
  {
   "cell_type": "markdown",
   "metadata": {
    "slideshow": {
     "slide_type": "slide"
    }
   },
   "source": [
    "### I/O Redirection"
   ]
  },
  {
   "cell_type": "markdown",
   "metadata": {},
   "source": [
    "\"I/O\" is a bit of technical slang for \"input/output\". It refers to the things that go into a program, and the things that come back out."
   ]
  },
  {
   "cell_type": "markdown",
   "metadata": {
    "slideshow": {
     "slide_type": "fragment"
    }
   },
   "source": [
    "For example, the command `echo \"Hello, world!\"` can be considered a program--\"`echo`\"--with input `\"Hello, world!\"`. It's just a type of program where the input and output are the same."
   ]
  },
  {
   "cell_type": "markdown",
   "metadata": {
    "slideshow": {
     "slide_type": "slide"
    }
   },
   "source": [
    "With the command line, we therefore refer to specific concepts known as *standard input* and *standard output*. Don't worry, this is pretty straightforward:"
   ]
  },
  {
   "cell_type": "markdown",
   "metadata": {},
   "source": [
    " - Standard input means anything you've typed on the keyboard, and\n",
    " - Standard output is anything that's printed back inside the main command prompt window"
   ]
  },
  {
   "cell_type": "markdown",
   "metadata": {
    "slideshow": {
     "slide_type": "fragment"
    }
   },
   "source": [
    "So when you type `echo \"Hello, world!\"`, the input is provided through *standard input* (since you typed it), and the output is sent through *standard output* (since it appeared in the command prompt right below the command you typed)."
   ]
  },
  {
   "cell_type": "markdown",
   "metadata": {
    "slideshow": {
     "slide_type": "slide"
    }
   },
   "source": [
    "We can, if we want, *redirect* those inputs and outputs. For example: if we have a long sequence of programs, perhaps we want the standard output of one program to be the *input* to the next one."
   ]
  },
  {
   "cell_type": "markdown",
   "metadata": {
    "slideshow": {
     "slide_type": "fragment"
    }
   },
   "source": [
    "<tt>&gt;</tt> send *standard output* to file\n",
    "\n",
    "<pre>\n",
    "$ echo Hello > h.txt\n",
    "</pre>"
   ]
  },
  {
   "cell_type": "markdown",
   "metadata": {
    "slideshow": {
     "slide_type": "fragment"
    }
   },
   "source": [
    "<tt>&gt;&gt;</tt> append to file\n",
    "\n",
    "<pre>\n",
    "$ echo World >> h.txt\n",
    "</pre>"
   ]
  },
  {
   "cell_type": "markdown",
   "metadata": {
    "slideshow": {
     "slide_type": "slide"
    }
   },
   "source": [
    "A quick exercise!"
   ]
  },
  {
   "cell_type": "markdown",
   "metadata": {
    "slideshow": {
     "slide_type": "-"
    }
   },
   "source": [
    "<pre>\n",
    "$ echo Hello > h.txt\n",
    "$ echo World >> h.txt\n",
    "$ cat h.txt\n",
    "</pre>"
   ]
  },
  {
   "cell_type": "markdown",
   "metadata": {
    "slideshow": {
     "slide_type": "fragment"
    }
   },
   "source": [
    "What prints out?\n",
    " - Hello\n",
    " - World\n",
    " - HelloWorld\n",
    " - <br />Hello<br />World\n",
    " - An Error"
   ]
  },
  {
   "cell_type": "markdown",
   "metadata": {
    "slideshow": {
     "slide_type": "slide"
    }
   },
   "source": [
    "A slightly different example:"
   ]
  },
  {
   "cell_type": "markdown",
   "metadata": {
    "slideshow": {
     "slide_type": "fragment"
    }
   },
   "source": [
    "<pre>\n",
    "$ echo Hello > h.txt\n",
    "$ echo World > h.txt\n",
    "$ cat h.txt\n",
    "</pre>\n",
    "\n",
    "What prints out?\n",
    " - Hello\n",
    " - World\n",
    " - HelloWorld\n",
    " - <br />Hello<br />World\n",
    " - An Error"
   ]
  },
  {
   "cell_type": "markdown",
   "metadata": {
    "slideshow": {
     "slide_type": "slide"
    }
   },
   "source": [
    "### Pipes"
   ]
  },
  {
   "cell_type": "markdown",
   "metadata": {},
   "source": [
    "A pipe (<tt>|</tt>) redirects the *standard output* of one program to the *standard input* of another.  It's like you typed the output of the first program into the second.  This allows us to chain several simple programs together to do something more complicated."
   ]
  },
  {
   "cell_type": "markdown",
   "metadata": {
    "slideshow": {
     "slide_type": "fragment"
    }
   },
   "source": [
    "`wc` is a very useful little command for \"**w**ord **c**ounting\"."
   ]
  },
  {
   "cell_type": "markdown",
   "metadata": {
    "slideshow": {
     "slide_type": "slide"
    }
   },
   "source": [
    "<pre>\n",
    "$ wc h.txt\n",
    "1       2      14 h.txt\n",
    "</pre>\n",
    "\n",
    "This means the text in `h.txt` has 1 line, 2 words, and 14 letters total."
   ]
  },
  {
   "cell_type": "markdown",
   "metadata": {
    "slideshow": {
     "slide_type": "fragment"
    }
   },
   "source": [
    "But rather than feed the text into a file first, we could echo it and *pipe* it directly into the `wc` command as input:\n",
    "\n",
    "<pre>\n",
    "$ echo hello, world! | wc\n",
    "       1       2      14\n",
    "</pre>\n",
    "\n",
    "Same output! But no filename, because we skipped that step."
   ]
  },
  {
   "cell_type": "markdown",
   "metadata": {
    "slideshow": {
     "slide_type": "slide"
    }
   },
   "source": [
    "### Simple Text Manipulation"
   ]
  },
  {
   "cell_type": "markdown",
   "metadata": {},
   "source": [
    "A frequent part of computational biology is, sadly, futzing with data in text files. But with a little bit of knowledge of text-processing command line programs, you can do a lot of this without even using something like Python."
   ]
  },
  {
   "cell_type": "markdown",
   "metadata": {
    "slideshow": {
     "slide_type": "fragment"
    }
   },
   "source": [
    "Some programs we've seen: \n",
    "\n",
    " - `cat`: dump file to stdout\n",
    " - `more`: paginated output (a nicer version of `cat`, basically)\n",
    " - `head`: show first 10 lines\n",
    " - `tail`: show last 10 lines\n",
    " - `wc`: count lines/words/characters"
   ]
  },
  {
   "cell_type": "markdown",
   "metadata": {
    "slideshow": {
     "slide_type": "slide"
    }
   },
   "source": [
    "Some new ones:\n",
    " - `sort`: sort file by line and print out (<tt>-n</tt> for numerical sort)\n",
    " - `uniq`: remove **adjacent** duplicates (<tt>-c</tt> to count occurances)\n",
    " - `cut`: extract fixed width columns from file"
   ]
  },
  {
   "cell_type": "markdown",
   "metadata": {
    "slideshow": {
     "slide_type": "slide"
    }
   },
   "source": [
    "Here's a fun example that ties some of these commands up using pipes:"
   ]
  },
  {
   "cell_type": "markdown",
   "metadata": {
    "slideshow": {
     "slide_type": "-"
    }
   },
   "source": [
    "<pre>\n",
    "$ cat text\n",
    "a\n",
    "b\n",
    "a\n",
    "b\n",
    "b\n",
    "$ cat text | uniq | wc\n",
    "</pre>"
   ]
  },
  {
   "cell_type": "markdown",
   "metadata": {
    "slideshow": {
     "slide_type": "fragment"
    }
   },
   "source": [
    "What is the first number to print out?\n",
    " - 1\n",
    " - 2\n",
    " - 3\n",
    " - 4\n",
    " - 5\n",
    " - None of the above"
   ]
  },
  {
   "cell_type": "markdown",
   "metadata": {
    "slideshow": {
     "slide_type": "slide"
    }
   },
   "source": [
    "A slight wrinkle:"
   ]
  },
  {
   "cell_type": "markdown",
   "metadata": {
    "slideshow": {
     "slide_type": "-"
    }
   },
   "source": [
    "<pre>\n",
    "$ cat text\n",
    "a\n",
    "b\n",
    "a\n",
    "b\n",
    "b\n",
    "$ cat text | sort | uniq | wc\n",
    "</pre>"
   ]
  },
  {
   "cell_type": "markdown",
   "metadata": {
    "slideshow": {
     "slide_type": "fragment"
    }
   },
   "source": [
    "What is the first number to print out?\n",
    " - 1\n",
    " - 2\n",
    " - 3\n",
    " - 4\n",
    " - 5\n",
    " - None of the above"
   ]
  },
  {
   "cell_type": "markdown",
   "metadata": {
    "slideshow": {
     "slide_type": "slide"
    }
   },
   "source": [
    "### Advanced Text Manipulation"
   ]
  },
  {
   "cell_type": "markdown",
   "metadata": {},
   "source": [
    "It's great to be able to dump out text using `cat`, count words and letters with `wc`, and `sort` and `uniq`-ify the outputs."
   ]
  },
  {
   "cell_type": "markdown",
   "metadata": {},
   "source": [
    "But what if I wanted to search a text file for a _specific_ word? Or extract the third word of _every_ line in a file? Or pull out every line that started with the word \"The\"?"
   ]
  },
  {
   "cell_type": "markdown",
   "metadata": {},
   "source": [
    "These are all a bit beyond the basic utilities we've described, so we have to explore some more advanced programs."
   ]
  },
  {
   "cell_type": "markdown",
   "metadata": {
    "slideshow": {
     "slide_type": "slide"
    }
   },
   "source": [
    "In particular, we're looking at these three commands:"
   ]
  },
  {
   "cell_type": "markdown",
   "metadata": {},
   "source": [
    " - `grep`: search contents of file for expression\n",
    " - `sed`: stream editor - perform substitutions\n",
    " - `awk`: pattern scanning and processing, great for dealing with data in columns"
   ]
  },
  {
   "cell_type": "markdown",
   "metadata": {},
   "source": [
    "We'll spend a slide on each one."
   ]
  },
  {
   "cell_type": "markdown",
   "metadata": {
    "slideshow": {
     "slide_type": "slide"
    }
   },
   "source": [
    "### grep\n",
    "\n",
    "This searches a file's contents for whatever pattern you specify. The command is organized this way:"
   ]
  },
  {
   "cell_type": "markdown",
   "metadata": {
    "slideshow": {
     "slide_type": "fragment"
    }
   },
   "source": [
    "<tt>grep <em>pattern</em> <em>file(s)</em></tt>"
   ]
  },
  {
   "cell_type": "markdown",
   "metadata": {
    "slideshow": {
     "slide_type": "-"
    }
   },
   "source": [
    "`pattern` can be any collection of letters that you want to match. The lines where the matches are found (if any) are printed to standard out if `grep` finds any."
   ]
  },
  {
   "cell_type": "markdown",
   "metadata": {
    "slideshow": {
     "slide_type": "fragment"
    }
   },
   "source": [
    "`grep` also has a few flags to change how it works:\n",
    "\n",
    " * `-r`: recursive search\n",
    " * `-I`: skip over binary files\n",
    " * `-s`: suppress error messages\n",
    " * `-n`: show line numbers\n",
    " * `-A`: show *N* lines after match\n",
    " * `-B`: show *N* lines before match"
   ]
  },
  {
   "cell_type": "markdown",
   "metadata": {
    "slideshow": {
     "slide_type": "slide"
    }
   },
   "source": [
    "Yay exercise!"
   ]
  },
  {
   "cell_type": "markdown",
   "metadata": {
    "slideshow": {
     "slide_type": "-"
    }
   },
   "source": [
    "<pre>\n",
    "$ cat text\n",
    "a\n",
    "b\n",
    "a\n",
    "b\n",
    "b\n",
    "$ grep a text | wc\n",
    "</pre>"
   ]
  },
  {
   "cell_type": "markdown",
   "metadata": {
    "slideshow": {
     "slide_type": "fragment"
    }
   },
   "source": [
    "What is the first number to print out?\n",
    " - 1\n",
    " - 2\n",
    " - 3\n",
    " - 4\n",
    " - 5\n",
    " - None of the above"
   ]
  },
  {
   "cell_type": "markdown",
   "metadata": {
    "slideshow": {
     "slide_type": "slide"
    }
   },
   "source": [
    "### sed"
   ]
  },
  {
   "cell_type": "markdown",
   "metadata": {},
   "source": [
    "`sed` is a great search and replace command. If you've ever used \"Find and Replace\" in Microsoft Word or something like that, this is the command-line version."
   ]
  },
  {
   "cell_type": "markdown",
   "metadata": {
    "slideshow": {
     "slide_type": "fragment"
    }
   },
   "source": [
    "It works with this pattern:\n",
    "\n",
    "<pre>\n",
    "sed 's/<em>pattern</em>/<em>replacement</em>/' <em>file</em>\n",
    "</pre>\n",
    "\n",
    " * `-i`: replace in-place (overwrites input file; the default behavior without this flag is to print the changes to standard output and leave the original file as-is)"
   ]
  },
  {
   "cell_type": "markdown",
   "metadata": {},
   "source": [
    "Basically, I'm searching the file for letters or words that exactly match `pattern`, and then replacing those with whatever I put in `replacement`."
   ]
  },
  {
   "cell_type": "markdown",
   "metadata": {
    "slideshow": {
     "slide_type": "slide"
    }
   },
   "source": [
    "So! How about an exercise?"
   ]
  },
  {
   "cell_type": "markdown",
   "metadata": {
    "slideshow": {
     "slide_type": "-"
    }
   },
   "source": [
    "<pre>\n",
    "$ sed 's/a/b/' text | uniq | wc\n",
    "</pre>"
   ]
  },
  {
   "cell_type": "markdown",
   "metadata": {
    "slideshow": {
     "slide_type": "fragment"
    }
   },
   "source": [
    "What is the first number to print out?\n",
    " - 1\n",
    " - 2\n",
    " - 3\n",
    " - 4\n",
    " - 5\n",
    " - None of the above"
   ]
  },
  {
   "cell_type": "markdown",
   "metadata": {
    "slideshow": {
     "slide_type": "slide"
    }
   },
   "source": [
    "### awk"
   ]
  },
  {
   "cell_type": "markdown",
   "metadata": {},
   "source": [
    "This is the single most advanced utility we'll cover for the command line. I'm not overstating to say knowledge and especially mastery of `awk` gets you jobs."
   ]
  },
  {
   "cell_type": "markdown",
   "metadata": {},
   "source": [
    "`awk` is pretty much a fully-functioning language unto itself, built for scanning, processing, and transforming text data. It's largely used to extract rows or columns of data according to potentially-complex conditions, but it can do just about anything you'd like, really."
   ]
  },
  {
   "cell_type": "markdown",
   "metadata": {
    "slideshow": {
     "slide_type": "slide"
    }
   },
   "source": [
    "It processes a file line-by-line, and if a condition holds true, it runs a simple program on the text in that line."
   ]
  },
  {
   "cell_type": "markdown",
   "metadata": {},
   "source": [
    "<tt> awk '<em>optional condition</em> {<em>awk program</em>}' <em>file</em></tt>\n",
    "* <tt>-F<em>x</em></tt> make *x* the field deliminator (default whitespace)\n",
    "* <tt>NF</tt> number of fields on current line\n",
    "* <tt>NR</tt> current record number\n",
    "* <tt>\\$0</tt> full line\n",
    "* <tt>\\$<em>N</em></tt> Nth field"
   ]
  },
  {
   "cell_type": "markdown",
   "metadata": {
    "slideshow": {
     "slide_type": "slide"
    }
   },
   "source": [
    "Before we get to exercises, let's try a few things out."
   ]
  },
  {
   "cell_type": "markdown",
   "metadata": {},
   "source": [
    "<pre>\n",
    "$ cat names\n",
    "id last,first \n",
    "1 Smith,Alice\n",
    "2 Jones,Bob\n",
    "3 Smith,Charlie\n",
    "</pre>"
   ]
  },
  {
   "cell_type": "markdown",
   "metadata": {
    "slideshow": {
     "slide_type": "fragment"
    }
   },
   "source": [
    "Try these:\n",
    "\n",
    "<pre>\n",
    "$ awk '{print $1}' names\n",
    "$ awk -F, '{print $2}' names\n",
    "$ awk 'NR > 1 {print $2}' names \n",
    "$ awk '$1 > 1 {print $0}' names\n",
    "$ awk 'NR > 1 {print $2}' names | awk -F, '{print $1}' | sort | uniq -c\n",
    "</pre>"
   ]
  },
  {
   "cell_type": "markdown",
   "metadata": {
    "slideshow": {
     "slide_type": "fragment"
    }
   },
   "source": [
    "Hint: `$1`, `$2`, and similar refer to columns in the text (0-indexed!)"
   ]
  },
  {
   "cell_type": "markdown",
   "metadata": {
    "slideshow": {
     "slide_type": "slide"
    }
   },
   "source": [
    "## Exercises"
   ]
  },
  {
   "cell_type": "markdown",
   "metadata": {
    "slideshow": {
     "slide_type": "-"
    }
   },
   "source": [
    "Let's walk through a couple of examples with some real files. You can download these off the course website. In fact, you can even do it from the command line with `wget`!"
   ]
  },
  {
   "cell_type": "markdown",
   "metadata": {
    "slideshow": {
     "slide_type": "fragment"
    }
   },
   "source": [
    "<pre>\n",
    "mkdir intro\n",
    "cd intro\n",
    "wget https://eds-uga.github.io/cbio4835-fa18/files/Spellman.csv\n",
    "wget https://eds-uga.github.io/cbio4835-fa18/files/1shs.pdb\n",
    "</pre>"
   ]
  },
  {
   "cell_type": "markdown",
   "metadata": {
    "slideshow": {
     "slide_type": "slide"
    }
   },
   "source": [
    "- How many data points are in Spellman.csv?\n",
    "-  The first three letters of the systematic open reading frames are: 'Y' for yeast, the chromosome number, then the chromosome arm. In the dataset, how many ORFs from chromosome A are there?\n",
    "- How many are there from each chromosome? \n",
    "  - each chromosome arm?\n",
    "- How many data points start with a positive expression value?\n",
    "- What are the 10 data points with the highest initial expression values?\n",
    "  - Lowest?\n",
    "- How many lines are there where expression values are continuously increasing for the first 3 time steps?\n",
    "- Sorted by biggest increase?"
   ]
  },
  {
   "cell_type": "markdown",
   "metadata": {
    "slideshow": {
     "slide_type": "subslide"
    }
   },
   "source": [
    "<pre>\n",
    "wc Spellman.csv   (gives number of lines, because of header this is off by one)\n",
    "grep YA Spellman.csv |wc\n",
    "grep ^YA Spellman.csv |wc  (this is a bit better, ^ matches begining of line)\n",
    "grep ^YA -c Spellman.csv  (grep can provide the count itself)\n",
    "awk -F, 'NR > 1 {print $1}' Spellman.csv | cut -b 1-2 | sort | uniq -c\n",
    "awk -F, 'NR > 1 {print $1}' Spellman.csv | cut -b 1-3 | sort | uniq -c\n",
    "awk -F, 'NR > 1 && $2 > 0 {print $0}' Spellman.csv | wc\n",
    "awk -F, 'NR > 1  {print $1,$2}' Spellman.csv  | sort -k2,2 -n | tail\n",
    "awk -F, 'NR > 1  {print $1,$2}' Spellman.csv  | sort -k2,2 -n -r | tail\n",
    "awk -F, 'NR > 1 && $3 > $2 && $4 > $3 {print $0}' Spellman.csv  |wc\n",
    "awk -F, 'NR > 1 && $3 > $2 && $4 > $3  {print $4-$2,$0}' Spellman.csv   | sort -n -k1,1\n",
    "</pre>"
   ]
  },
  {
   "cell_type": "markdown",
   "metadata": {
    "slideshow": {
     "slide_type": "slide"
    }
   },
   "source": [
    "## More Exercises\n",
    "\n",
    "- Create a pdb file from 1shs that consists of only ATOM records. \n",
    "- Create a pdb with only ATOM records from chain A.\n",
    "- How many carbon atoms are in this file?"
   ]
  },
  {
   "cell_type": "markdown",
   "metadata": {
    "slideshow": {
     "slide_type": "subslide"
    }
   },
   "source": [
    "<pre>\n",
    "grep ^ATOM 1shs.pdb > newpdb.pdb (^matches beginning of line)\n",
    "grep ^ATOM 1shs.pdb | awk '$5 == \"A\" {print $0}'\n",
    "#this is UNSAFE with pdb files since there is no guarantee that fields\n",
    "#will be whitespace seperated, safer is:\n",
    "grep ^ATOM 1shs.pdb | awk ' substr($0,22,1) == \"A\" {print $0}' > newpdb.pdb\n",
    "grep ^ATOM 1shs.pdb | awk ' substr($0,22,1) == \"A\" {print $0}' | cut -b 78- | sort | uniq -c\n",
    "</pre>"
   ]
  },
  {
   "cell_type": "markdown",
   "metadata": {
    "slideshow": {
     "slide_type": "slide"
    }
   },
   "source": [
    "## Administrivia"
   ]
  },
  {
   "cell_type": "markdown",
   "metadata": {},
   "source": [
    " - Did everyone finish the pre-test? It was due today before lecture. https://docs.google.com/forms/d/1ka9yH5G3bOCfdJUTaeZXV2BdtvqqsiPaxnvKI2f4YK4/"
   ]
  },
  {
   "cell_type": "markdown",
   "metadata": {},
   "source": [
    " - JupyterHub is up and running! Check to make sure that you can log in (instructions were posted in Slack)."
   ]
  },
  {
   "cell_type": "markdown",
   "metadata": {},
   "source": [
    " - Assignment 1 will also be released later today. Due in two weeks!"
   ]
  },
  {
   "cell_type": "markdown",
   "metadata": {
    "slideshow": {
     "slide_type": "slide"
    }
   },
   "source": [
    "## Resources\n",
    "\n",
    " - A BASH cheatsheet: http://eds-uga.github.io/cbio-x835-sp20/notes/bash_cheatsheet.pdf"
   ]
  }
 ],
 "metadata": {
  "celltoolbar": "Slideshow",
  "kernelspec": {
   "display_name": "Python 3",
   "language": "python",
   "name": "python3"
  },
  "language_info": {
   "codemirror_mode": {
    "name": "ipython",
    "version": 3
   },
   "file_extension": ".py",
   "mimetype": "text/x-python",
   "name": "python",
   "nbconvert_exporter": "python",
   "pygments_lexer": "ipython3",
   "version": "3.6.9"
  }
 },
 "nbformat": 4,
 "nbformat_minor": 2
}
