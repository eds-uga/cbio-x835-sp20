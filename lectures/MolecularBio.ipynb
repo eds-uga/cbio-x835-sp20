{
 "cells": [
  {
   "cell_type": "markdown",
   "metadata": {
    "slideshow": {
     "slide_type": "slide"
    }
   },
   "source": [
    "# Lecture 6: Molecular Biology Primer\n",
    "\n",
    "CBIO (CSCI) 4835/6835: Introduction to Computational Biology"
   ]
  },
  {
   "cell_type": "markdown",
   "metadata": {
    "slideshow": {
     "slide_type": "slide"
    }
   },
   "source": [
    "## Overview and Objectives\n",
    "\n",
    "A respite from the \"Python Firehose,\" we'll be starting our journey into applying the tools and techniques we've covered over the past couple weeks to answer biological questions. Here, we'll cover a basic introduction to molecular biology and the types of problems that crop up. By the end of this lecture, you should be able to:"
   ]
  },
  {
   "cell_type": "markdown",
   "metadata": {},
   "source": [
    " - Recall the basic components for life and their types\n",
    " - Discuss the three critical molecules and their roles in the \"Central Dogma\"\n",
    " - Define genes, where they are found, and the process through which they are activated\n",
    " - Explain the process through which DNA is sequenced\n",
    " - Understand the role of bioinformatics and some common algorithms for analyzing sequence data"
   ]
  },
  {
   "cell_type": "markdown",
   "metadata": {
    "slideshow": {
     "slide_type": "slide"
    }
   },
   "source": [
    "## Part 1: Building Blocks of Life"
   ]
  },
  {
   "cell_type": "markdown",
   "metadata": {},
   "source": [
    "![cells](MolecularBioPySB/cells.png)"
   ]
  },
  {
   "cell_type": "markdown",
   "metadata": {
    "slideshow": {
     "slide_type": "slide"
    }
   },
   "source": [
    "### Cells"
   ]
  },
  {
   "cell_type": "markdown",
   "metadata": {},
   "source": [
    " - Fundamental unit of every living organism"
   ]
  },
  {
   "cell_type": "markdown",
   "metadata": {},
   "source": [
    " - All cells evolved from a common ancestor roughly 3.5 billion years ago"
   ]
  },
  {
   "cell_type": "markdown",
   "metadata": {},
   "source": [
    " - Cells fall into one of two main categories: **prokaryotes** and **eukaryotes**"
   ]
  },
  {
   "cell_type": "markdown",
   "metadata": {
    "slideshow": {
     "slide_type": "slide"
    }
   },
   "source": [
    "![tree](MolecularBioPySB/tree.png)"
   ]
  },
  {
   "cell_type": "markdown",
   "metadata": {
    "slideshow": {
     "slide_type": "slide"
    }
   },
   "source": [
    "Cells are the smallest functional unit of life; consequently, most cells share common structures..."
   ]
  },
  {
   "cell_type": "markdown",
   "metadata": {},
   "source": [
    "![cell](MolecularBioPySB/cell.png)"
   ]
  },
  {
   "cell_type": "markdown",
   "metadata": {
    "slideshow": {
     "slide_type": "slide"
    }
   },
   "source": [
    "...and functions."
   ]
  },
  {
   "cell_type": "markdown",
   "metadata": {},
   "source": [
    "![cellcycle](MolecularBioPySB/cellcycle.png)"
   ]
  },
  {
   "cell_type": "markdown",
   "metadata": {
    "slideshow": {
     "slide_type": "slide"
    }
   },
   "source": [
    "### Prokaryotic versus Eukaryotic"
   ]
  },
  {
   "cell_type": "markdown",
   "metadata": {},
   "source": [
    "What are some of the main differences between prokaryotic and eukaryotic cells?"
   ]
  },
  {
   "cell_type": "markdown",
   "metadata": {
    "slideshow": {
     "slide_type": "fragment"
    }
   },
   "source": [
    "![proeu](MolecularBioPySB/prokareukar.png)"
   ]
  },
  {
   "cell_type": "markdown",
   "metadata": {
    "slideshow": {
     "slide_type": "slide"
    }
   },
   "source": [
    "**Prokaryotes**\n",
    "\n",
    " - Single-celled\n",
    " - No nucleus or other organelles (lacks a membrane-bound nucleus)\n",
    " - One circular piece of DNA\n",
    " - No mRNA post-transcriptional modifications\n",
    " - Only one kind of membrane: the plasma membrane\n",
    " - Smallest known cells are bacteria (1000-2000 polypeptide species, 3$\\times 10^6$ protein molecules\n",
    " - *E. coli* genome has about $4 \\times 10^6$ base pairs, 90% of which encode proteins"
   ]
  },
  {
   "cell_type": "markdown",
   "metadata": {
    "slideshow": {
     "slide_type": "fragment"
    }
   },
   "source": [
    "**Eukaryotes**\n",
    "\n",
    " - Multi-celled (plants, animals, protists, fungi)\n",
    " - Complex system of internal structures (organelles and vacules)\n",
    " - Volume of cell is hundreds of times larger, e.g. HeLa cells (5,000-10,0000 polypeptide species, 5$\\times 10^9$ protein molecules)\n",
    " - Genome of yeast contains about $1.35 \\times 10^7$ base pairs, only a small fraction of which encode proteins\n",
    " - DNA contained in chromosomes, which are contained in membrane-bound nucleus"
   ]
  },
  {
   "cell_type": "markdown",
   "metadata": {
    "slideshow": {
     "slide_type": "slide"
    }
   },
   "source": [
    "### Cell Signaling"
   ]
  },
  {
   "cell_type": "markdown",
   "metadata": {},
   "source": [
    "Signaling pathways allow cells to coordinate complex behaviors and make decisions between them that would otherwise be impossible. Some of these decisions may include"
   ]
  },
  {
   "cell_type": "markdown",
   "metadata": {},
   "source": [
    " - Synthesizing new materials\n",
    " - Breaking down materials for \"spare parts\"\n",
    " - Determining when to eat, replicate, or die"
   ]
  },
  {
   "cell_type": "markdown",
   "metadata": {
    "slideshow": {
     "slide_type": "slide"
    }
   },
   "source": [
    "![signaling](MolecularBioPySB/signaling.png)"
   ]
  },
  {
   "cell_type": "markdown",
   "metadata": {
    "slideshow": {
     "slide_type": "slide"
    }
   },
   "source": [
    "### Three Critical Components"
   ]
  },
  {
   "cell_type": "markdown",
   "metadata": {
    "slideshow": {
     "slide_type": "-"
    }
   },
   "source": [
    "**DNA**\n",
    "\n",
    " - Holds all the information for how the cell works. If the nucleus is a library, the DNA comprises the books."
   ]
  },
  {
   "cell_type": "markdown",
   "metadata": {},
   "source": [
    "**RNA**\n",
    "\n",
    " - Act to transfer short pieces of information to other parts of the cell.\n",
    " - Provide templates for protein synthesis.\n",
    " - Numerous other roles."
   ]
  },
  {
   "cell_type": "markdown",
   "metadata": {},
   "source": [
    "**Proteins**\n",
    "\n",
    " - The \"workhorse\", forming the body's major components (hair, skin, bones, muscles, etc).\n",
    " - Form enzymes that send signals across cells and regulate gene activity."
   ]
  },
  {
   "cell_type": "markdown",
   "metadata": {
    "slideshow": {
     "slide_type": "slide"
    }
   },
   "source": [
    "## Part 2: Genetic Material\n",
    "\n",
    "![genes](MolecularBioPySB/geneticmaterial.png)"
   ]
  },
  {
   "cell_type": "markdown",
   "metadata": {
    "slideshow": {
     "slide_type": "slide"
    }
   },
   "source": [
    "### What is DNA?\n",
    "\n",
    "**Deoxy-ribonucleic acid**\n",
    "\n",
    "![dna](MolecularBioPySB/dna.png)"
   ]
  },
  {
   "cell_type": "markdown",
   "metadata": {},
   "source": [
    " - DNA consists of a **nitrogenous base**, a **sugar**, and a **phosphate**\n",
    " - Double helix struture--forward and backward direction, with 5' and 3' ends (why?)\n",
    " - Always read (and transcribe) 5' to 3'"
   ]
  },
  {
   "cell_type": "markdown",
   "metadata": {
    "slideshow": {
     "slide_type": "slide"
    }
   },
   "source": [
    "### Structure\n",
    "\n",
    "![dnastruc](MolecularBioPySB/dnastructure.png)"
   ]
  },
  {
   "cell_type": "markdown",
   "metadata": {
    "slideshow": {
     "slide_type": "slide"
    }
   },
   "source": [
    " - Main structure formed through linkage of base-pairs: Adenine (A), Thymine (T), Cytidine (C), and Guanine (G).\n",
    " - A pairs with T, C pairs with G (which is stronger? why?).\n",
    " - Backbone consists of the deoxyribose and phosphate groups"
   ]
  },
  {
   "cell_type": "markdown",
   "metadata": {
    "slideshow": {
     "slide_type": "slide"
    }
   },
   "source": [
    "### Replication\n",
    "\n",
    "![replication](MolecularBioPySB/dnareplication.png)"
   ]
  },
  {
   "cell_type": "markdown",
   "metadata": {
    "slideshow": {
     "slide_type": "slide"
    }
   },
   "source": [
    " - Process through which DNA replicates, or clones, itself\n",
    " - Splits the double strands and rebuilds each one \n",
    " - Each daughter strand is an exact replica of the original (why?)"
   ]
  },
  {
   "cell_type": "markdown",
   "metadata": {
    "slideshow": {
     "slide_type": "slide"
    }
   },
   "source": [
    "### Coding for Traits\n",
    "\n",
    "The *effects* of DNA were discovered long before the genetic structure itself."
   ]
  },
  {
   "cell_type": "markdown",
   "metadata": {},
   "source": [
    "Gregor Mendel discovered this effect in the 1860s while experimenting with pea plants. He was trying to answer the question: **Do traits come from a blend of both parents' traits, or from only one?**"
   ]
  },
  {
   "cell_type": "markdown",
   "metadata": {},
   "source": [
    "Mendel discovered that genes were passed on to offspring by both parents in the form of either *dominant* or *recessive* traits."
   ]
  },
  {
   "cell_type": "markdown",
   "metadata": {},
   "source": [
    "The dominant gene determined the *phenotype* of the offspring; unless it wasn't present, in which case the recessive gene would determine the phenotype. The gene itself is the *genotype*."
   ]
  },
  {
   "cell_type": "markdown",
   "metadata": {},
   "source": [
    "DNA and its building blocks were later discovered in the 1950s."
   ]
  },
  {
   "cell_type": "markdown",
   "metadata": {
    "slideshow": {
     "slide_type": "slide"
    }
   },
   "source": [
    "### Mutations in Nucleotides"
   ]
  },
  {
   "cell_type": "markdown",
   "metadata": {},
   "source": [
    "DNA is a sequence of nucleotides (A, G, T, and C). When one of these bases in the sequence change, this is known as a **mutation**."
   ]
  },
  {
   "cell_type": "markdown",
   "metadata": {},
   "source": [
    "Mutations can have one of three possible effects:\n",
    "\n",
    " 1. **Good**: The mutation results in a trait that enhances the organism's function (mutation in the sickle gene provides resistance to malaria)\n",
    " 2. **Bad**: The mutation causes a trait that is harmful, or even fatal, to the organism (Huntington's disease is a symptom of gene mutation that results in degeneration of the nervous system)\n",
    " 3. **Neutral**: The mutation can cause no discernible changes in the organism"
   ]
  },
  {
   "cell_type": "markdown",
   "metadata": {
    "slideshow": {
     "slide_type": "slide"
    }
   },
   "source": [
    "## Part 3: DNA to Proteins\n",
    "\n",
    "![centraldogma](MolecularBioPySB/centraldogma.png)"
   ]
  },
  {
   "cell_type": "markdown",
   "metadata": {
    "slideshow": {
     "slide_type": "slide"
    }
   },
   "source": [
    "### The Central Dogma"
   ]
  },
  {
   "cell_type": "markdown",
   "metadata": {},
   "source": [
    "**DNA -> RNA -> Protein**"
   ]
  },
  {
   "cell_type": "markdown",
   "metadata": {},
   "source": [
    " - Information for making proteins is stored in DNA\n",
    " - Processes (transcription and translation) convert the coding regions of DNA to proteins\n",
    " - By understanding this process and how it is regulated, we can make models and predictions of cells"
   ]
  },
  {
   "cell_type": "markdown",
   "metadata": {
    "slideshow": {
     "slide_type": "slide"
    }
   },
   "source": [
    "### RNA"
   ]
  },
  {
   "cell_type": "markdown",
   "metadata": {},
   "source": [
    "**Ribonucleic acid**"
   ]
  },
  {
   "cell_type": "markdown",
   "metadata": {},
   "source": [
    " - Similar, chemically speaking, to DNA (Uracil in lieu of Thyamine)\n",
    " - Usually single-stranded\n",
    " - Some forms of RNA form secondary structures by \"pairing\" with itself"
   ]
  },
  {
   "cell_type": "markdown",
   "metadata": {
    "slideshow": {
     "slide_type": "slide"
    }
   },
   "source": [
    "![trna](MolecularBioPySB/trna.png)"
   ]
  },
  {
   "cell_type": "markdown",
   "metadata": {
    "slideshow": {
     "slide_type": "slide"
    }
   },
   "source": [
    "Several \"types\" of RNA exist that are understood to perform specific functions."
   ]
  },
  {
   "cell_type": "markdown",
   "metadata": {},
   "source": [
    " - **mRNA**: the messenger RNA that encodes a gene from the DNA"
   ]
  },
  {
   "cell_type": "markdown",
   "metadata": {},
   "source": [
    " - **tRNA**: delivers specific amino acids to ribosomes according to the sequences of the mRNA"
   ]
  },
  {
   "cell_type": "markdown",
   "metadata": {},
   "source": [
    " - **rRNA**: ribosomal RNA that catalyzes the formation of peptide bonds between amino acids"
   ]
  },
  {
   "cell_type": "markdown",
   "metadata": {
    "slideshow": {
     "slide_type": "slide"
    }
   },
   "source": [
    "### Transcription"
   ]
  },
  {
   "cell_type": "markdown",
   "metadata": {},
   "source": [
    "This is the process through which genes in the DNA are \"converted\" to RNA (specifically, mRNA)."
   ]
  },
  {
   "cell_type": "markdown",
   "metadata": {},
   "source": [
    " - Catalyzed by a transcriptase enzyme\n",
    " - Transcribed by RNA polymerase\n",
    " - Highly regulated process (promoter regions and motif finding, repressors and inhibitors)"
   ]
  },
  {
   "cell_type": "markdown",
   "metadata": {
    "slideshow": {
     "slide_type": "slide"
    }
   },
   "source": [
    "![transcription](MolecularBioPySB/transcription.png)"
   ]
  },
  {
   "cell_type": "markdown",
   "metadata": {
    "slideshow": {
     "slide_type": "slide"
    }
   },
   "source": [
    "### Genes\n",
    "\n",
    "![gene](MolecularBioPySB/gene.png)"
   ]
  },
  {
   "cell_type": "markdown",
   "metadata": {},
   "source": [
    " - Regulatory regions are often 50kb upstream of coding site\n",
    " - **exons** are the protein-coding (or untranslated: UTR) regions [1 to 178 exons per gene, 8bp to 17kbp per exon]\n",
    " - **introns** are splice acceptor (or junk coding) regions [1kb - 50kb per intron]"
   ]
  },
  {
   "cell_type": "markdown",
   "metadata": {
    "slideshow": {
     "slide_type": "slide"
    }
   },
   "source": [
    "### Splicing\n",
    "\n",
    "![splicing](MolecularBioPySB/process.png)"
   ]
  },
  {
   "cell_type": "markdown",
   "metadata": {
    "slideshow": {
     "slide_type": "slide"
    }
   },
   "source": [
    " - Introns are removed from mRNA before the sequence is translated to proteins\n",
    " - Alternate splicings can create different valid proteins from the same gene\n",
    " - Post-transcriptional processing includes 5' cap and poly-A tail on mRNA"
   ]
  },
  {
   "cell_type": "markdown",
   "metadata": {
    "slideshow": {
     "slide_type": "slide"
    }
   },
   "source": [
    "### Translation\n",
    "\n",
    "![translation](MolecularBioPySB/translation.png)"
   ]
  },
  {
   "cell_type": "markdown",
   "metadata": {
    "slideshow": {
     "slide_type": "slide"
    }
   },
   "source": [
    " - Process through which mature mRNAs are translated into proteins\n",
    " - Combination of mRNA, tRNA, and rRNA\n",
    " - **How does the machinery know what amino acids to assemble?**"
   ]
  },
  {
   "cell_type": "markdown",
   "metadata": {
    "slideshow": {
     "slide_type": "slide"
    }
   },
   "source": [
    "### Codons\n",
    "\n",
    "![codons](MolecularBioPySB/codons.png)"
   ]
  },
  {
   "cell_type": "markdown",
   "metadata": {
    "slideshow": {
     "slide_type": "slide"
    }
   },
   "source": [
    " - Sequence of three consecutive bases\n",
    " - Forms a language that specifies the amino acids\n",
    " - 20\\* possible amino acids\n",
    " - Always starts with a methionine and ends with a stop codon"
   ]
  },
  {
   "cell_type": "markdown",
   "metadata": {
    "slideshow": {
     "slide_type": "slide"
    }
   },
   "source": [
    "### Folding\n",
    "\n",
    "The final step in protein synthesis is the folding of the assembled polypeptide into its primary configuration."
   ]
  },
  {
   "cell_type": "markdown",
   "metadata": {},
   "source": [
    "![folding](MolecularBioPySB/folding.png)"
   ]
  },
  {
   "cell_type": "markdown",
   "metadata": {
    "slideshow": {
     "slide_type": "slide"
    }
   },
   "source": [
    " - Folding begins while the peptide is still being translated\n",
    " - Occurs largely in endoplasmic reticulum and mitochondria\n",
    " - $\\alpha$-helices or $\\beta$-sheets\n",
    " - \"Molecular chaperones\" can assist in protein folding\n",
    " - Folding is understood to be a function of free energy\n",
    " - Improper folding\n",
    " - **Protein folding is an extremely hard problem** (we'll explore it later this semester)"
   ]
  },
  {
   "cell_type": "markdown",
   "metadata": {
    "slideshow": {
     "slide_type": "slide"
    }
   },
   "source": [
    "## Part 4: Analyzing DNA"
   ]
  },
  {
   "cell_type": "markdown",
   "metadata": {},
   "source": [
    "Analyze a genome in four easy steps!"
   ]
  },
  {
   "cell_type": "markdown",
   "metadata": {},
   "source": [
    " 1. Copy the DNA many times.\n",
    " 2. Cut the DNA into small fragments.\n",
    " 3. Use specialized instruments to read the small fragments.\n",
    " 4. Assemble all the reads into a single coherent genome sequence.\n",
    " 5. Profit!"
   ]
  },
  {
   "cell_type": "markdown",
   "metadata": {
    "slideshow": {
     "slide_type": "fragment"
    }
   },
   "source": [
    "**Steps 4 and 5 are where bioinformatics and computational biology play a role.**"
   ]
  },
  {
   "cell_type": "markdown",
   "metadata": {
    "slideshow": {
     "slide_type": "slide"
    }
   },
   "source": [
    "### Copy the DNA"
   ]
  },
  {
   "cell_type": "markdown",
   "metadata": {},
   "source": [
    "**Why?**"
   ]
  },
  {
   "cell_type": "markdown",
   "metadata": {
    "slideshow": {
     "slide_type": "fragment"
    }
   },
   "source": [
    " - DNA is very small; can't really \"look\" at it directly\n",
    " - Need chemical techniques to detect the sequence\n",
    " - These chemical techniques aren't terribly sensitive, so we need to make our DNA sample \"bigger\" by cloning it"
   ]
  },
  {
   "cell_type": "markdown",
   "metadata": {
    "slideshow": {
     "slide_type": "slide"
    }
   },
   "source": [
    "![pcr](MolecularBioPySB/pcr.png)"
   ]
  },
  {
   "cell_type": "markdown",
   "metadata": {
    "slideshow": {
     "slide_type": "slide"
    }
   },
   "source": [
    "Use **polymerase chain reaction (PCR)** to massively replicate the DNA."
   ]
  },
  {
   "cell_type": "markdown",
   "metadata": {},
   "source": [
    "PCR doubles the amount of DNA at every iteration (amount of DNA grows exponentially)"
   ]
  },
  {
   "cell_type": "markdown",
   "metadata": {
    "slideshow": {
     "slide_type": "slide"
    }
   },
   "source": [
    "### Cut up the DNA"
   ]
  },
  {
   "cell_type": "markdown",
   "metadata": {},
   "source": [
    "**Why?**"
   ]
  },
  {
   "cell_type": "markdown",
   "metadata": {
    "slideshow": {
     "slide_type": "fragment"
    }
   },
   "source": [
    " - Sequencing machines can't read very many base pairs before becoming unreliable\n",
    " - Shorter fragments = more reliable reads"
   ]
  },
  {
   "cell_type": "markdown",
   "metadata": {
    "slideshow": {
     "slide_type": "slide"
    }
   },
   "source": [
    "Use various **restriction enzymes** to chop up the DNA at specific points."
   ]
  },
  {
   "cell_type": "markdown",
   "metadata": {},
   "source": [
    " - Discovered in the 1970s\n",
    " - Used by bacteria as a defense mechanism to break down the DNA of invading viruses; cut DNA into fragments\n",
    " - Also used in sequencing: breaks down DNA into more manageable pieces\n",
    " - Can then use standard purification techniques to identify single fragments and duplicate them"
   ]
  },
  {
   "cell_type": "markdown",
   "metadata": {
    "slideshow": {
     "slide_type": "slide"
    }
   },
   "source": [
    "### Sequence the fragments\n",
    "\n",
    "![electrophoresis](MolecularBioPySB/electrophoresis.png)"
   ]
  },
  {
   "cell_type": "markdown",
   "metadata": {
    "slideshow": {
     "slide_type": "slide"
    }
   },
   "source": [
    " - This can be done through **gel electrophoresis**\n",
    " - The phosphate backbone of DNA is highly negatively charged, therefore the DNA fragments will migrate in an electric field\n",
    " - Size of DNA fragments (and, therefore, their identities) can be determined by how far the fragments migrate in the gel\n",
    " - Direct sequencing can also be done using gene chips or next-gen sequencers"
   ]
  },
  {
   "cell_type": "markdown",
   "metadata": {
    "slideshow": {
     "slide_type": "slide"
    }
   },
   "source": [
    "### Assembling the Genome\n",
    "\n",
    "![assembling](MolecularBioPySB/assembling.png)"
   ]
  },
  {
   "cell_type": "markdown",
   "metadata": {
    "slideshow": {
     "slide_type": "slide"
    }
   },
   "source": [
    " - Solve the problem called the **shortest common superstring (SCS)**: fragments will have some overlap, so they need to be assembled in such a way that all fragments are used to create the shortest sequence possible\n",
    " - **This is a very hard problem**"
   ]
  },
  {
   "cell_type": "markdown",
   "metadata": {
    "slideshow": {
     "slide_type": "slide"
    }
   },
   "source": [
    "### Genome Assembly Challenges"
   ]
  },
  {
   "cell_type": "markdown",
   "metadata": {},
   "source": [
    " - DNA fragments may contain sequencing errors! (probability of replication error $\\times$ huge number of replications)\n",
    " - Two complements of DNA: need to take complementary strand into account when assembling reads\n",
    " - Problem of repeats (50% of human DNA is just repeats)"
   ]
  },
  {
   "cell_type": "markdown",
   "metadata": {
    "slideshow": {
     "slide_type": "slide"
    }
   },
   "source": [
    "## Part 5: Role of Bioinformatics\n",
    "\n",
    "![bioinformatics](MolecularBioPySB/bioinformatics.png)"
   ]
  },
  {
   "cell_type": "markdown",
   "metadata": {
    "slideshow": {
     "slide_type": "slide"
    }
   },
   "source": [
    "**Bioinformatics** or **Computational Biology** are generally defined as the analysis, prediction, and modeling of biological data with the help of computers."
   ]
  },
  {
   "cell_type": "markdown",
   "metadata": {},
   "source": [
    "*in silico*"
   ]
  },
  {
   "cell_type": "markdown",
   "metadata": {},
   "source": [
    " - **Genomics**:\n",
    "   - Fragment assembly of the DNA sequence\n",
    "   - N-P complete problem (this means it's as hard a problem as they come)\n",
    "   - Finding genes--identify open reading frames\n",
    " - **Proteomics**:\n",
    "   - Predict how proteins will fold, given their primary structure\n",
    "       - Identify functional domains in protein sequence, and what the function is"
   ]
  },
  {
   "cell_type": "markdown",
   "metadata": {
    "slideshow": {
     "slide_type": "slide"
    }
   },
   "source": [
    "### Current Examples"
   ]
  },
  {
   "cell_type": "markdown",
   "metadata": {},
   "source": [
    " - Sequence comparison\n",
    " - Searching for similar sequences\n",
    " - Queries to sequence databases"
   ]
  },
  {
   "cell_type": "markdown",
   "metadata": {
    "slideshow": {
     "slide_type": "slide"
    }
   },
   "source": [
    "### BLAST\n",
    "\n",
    "**B**asic **L**ocal **A**lignment **S**earch **T**ool"
   ]
  },
  {
   "cell_type": "markdown",
   "metadata": {},
   "source": [
    "Allows researchers to compare query sequences (your sequence of interest) with entries in current biological databases"
   ]
  },
  {
   "cell_type": "markdown",
   "metadata": {},
   "source": [
    "Great for predicting the function of unknown sequences using alignment to similar, known sequences"
   ]
  },
  {
   "cell_type": "markdown",
   "metadata": {},
   "source": [
    "Emphasis is on **speed**: as a result, it does not search for an *optimal* result, but uses a heuristic to identify matches or close matches with high probability"
   ]
  },
  {
   "cell_type": "markdown",
   "metadata": {
    "slideshow": {
     "slide_type": "slide"
    }
   },
   "source": [
    "### PROSITE\n",
    "\n",
    "Database of active sites in proteins"
   ]
  },
  {
   "cell_type": "markdown",
   "metadata": {},
   "source": [
    "Similar to BLAST in that it takes a query sequence of an unknown protein and returns known active sites in proteins with similar amino acid sequences"
   ]
  },
  {
   "cell_type": "markdown",
   "metadata": {
    "slideshow": {
     "slide_type": "slide"
    }
   },
   "source": [
    "### Sequence Analysis"
   ]
  },
  {
   "cell_type": "markdown",
   "metadata": {},
   "source": [
    "Critical component of computational genomics and proteomics."
   ]
  },
  {
   "cell_type": "markdown",
   "metadata": {},
   "source": [
    " - Finding open reading frames, RNA splice sites, conserved regions\n",
    " - Amino acid propensities in proteins\n",
    " - Protein secondary structure folding and active sites"
   ]
  },
  {
   "cell_type": "markdown",
   "metadata": {
    "slideshow": {
     "slide_type": "fragment"
    }
   },
   "source": [
    "Even further downstream, analyses of the primary structure can yield"
   ]
  },
  {
   "cell_type": "markdown",
   "metadata": {},
   "source": [
    " - Phylogeny: finding relationships between species by tracking similarities between them\n",
    " - Gene annotation (cooperative genomics) by comparing similar species\n",
    " - Determination of regulatory networks\n",
    " - Computational drug discovery"
   ]
  },
  {
   "cell_type": "markdown",
   "metadata": {
    "slideshow": {
     "slide_type": "slide"
    }
   },
   "source": [
    "## Administrivia"
   ]
  },
  {
   "cell_type": "markdown",
   "metadata": {},
   "source": [
    " - **Assigment 1 is due today, and Assignment 2 comes out.**"
   ]
  },
  {
   "cell_type": "markdown",
   "metadata": {},
   "source": [
    " - **Will hopefully have Assignment 1 graded very soon.**"
   ]
  },
  {
   "cell_type": "markdown",
   "metadata": {
    "slideshow": {
     "slide_type": "slide"
    }
   },
   "source": [
    "## Additional Resources\n",
    "\n",
    " 1. Jones, Neil C. and Pevzner, Pavel A. *An Introduction to Bioinformatics Algorithms*, Chapter 3. 2004. ISBN-13: 978-0262101066\n",
    " 2. Based heavily on the [modified slides of Dr. Phillip Compeau](http://compeau.cbd.cmu.edu/index.php/teaching/jones-pevzner-slides/molecular-biology-primer/).\n",
    " \n",
    "![credits](MolecularBioPySB/credits.png)"
   ]
  }
 ],
 "metadata": {
  "anaconda-cloud": {},
  "celltoolbar": "Slideshow",
  "kernelspec": {
   "display_name": "Python 3",
   "language": "python",
   "name": "python3"
  },
  "language_info": {
   "codemirror_mode": {
    "name": "ipython",
    "version": 3
   },
   "file_extension": ".py",
   "mimetype": "text/x-python",
   "name": "python",
   "nbconvert_exporter": "python",
   "pygments_lexer": "ipython3",
   "version": "3.7.5"
  }
 },
 "nbformat": 4,
 "nbformat_minor": 1
}
