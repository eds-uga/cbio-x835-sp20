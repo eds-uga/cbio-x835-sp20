{
 "cells": [
  {
   "cell_type": "markdown",
   "metadata": {
    "slideshow": {
     "slide_type": "slide"
    }
   },
   "source": [
    "# Bonus Lecture: Molecular Dynamics\n",
    "\n",
    "CBIO (CSCI) 4835/6835: Introduction to Computational Biology"
   ]
  },
  {
   "cell_type": "markdown",
   "metadata": {
    "slideshow": {
     "slide_type": "slide"
    }
   },
   "source": [
    "## Overview and Objectives\n",
    "\n",
    "In the last lecture, we introduced the idea of computational structural biology and the concept of molecular dynamics simulations to gauge how proteins could move and perform their functions over different timescales. In this lecture, we'll go over some tools you can use (in Python, of course) to look at proteins and analyze MD trajectories. By the end of this lecture, you should be able to:\n",
    "\n",
    " - Download and explore PDB files of proteins using ProDy\n",
    " - Understand the basics of performing PCA on covariance matrices of ensembles or trajectories\n",
    " - Visualize protein structures and interface with Python scripts"
   ]
  },
  {
   "cell_type": "markdown",
   "metadata": {
    "slideshow": {
     "slide_type": "slide"
    }
   },
   "source": [
    "## Part 1: ProDy"
   ]
  },
  {
   "cell_type": "markdown",
   "metadata": {},
   "source": [
    "![prody-logo](MolecularDynamics/prody-logo.png)"
   ]
  },
  {
   "cell_type": "markdown",
   "metadata": {},
   "source": [
    "ProDy stands for **Pro**tein **Dy**namics,\n",
    "\n",
    " - an API that is very suitable for interactive usage \n",
    " - comes with several command line applications"
   ]
  },
  {
   "cell_type": "markdown",
   "metadata": {
    "slideshow": {
     "slide_type": "slide"
    }
   },
   "source": [
    "ProDy is designed for normal mode analysis, but also is\n",
    "\n",
    " - a powerful tool for handling macromolecular structures\n",
    " - useful for analysis of molecular dynamics (MD) trajectories\n",
    " - useful for sequence conservation and coevolution analysis ([*Evol*](http://prody.csb.pitt.edu/evol/))"
   ]
  },
  {
   "cell_type": "markdown",
   "metadata": {},
   "source": [
    "What is \"normal mode analysis\"?"
   ]
  },
  {
   "cell_type": "markdown",
   "metadata": {
    "slideshow": {
     "slide_type": "slide"
    }
   },
   "source": [
    "From Bahar *et al* 2009, [*Normal Mode Analysis of Biomolecular Structures: Functional Mechanisms of Membrane Proteins*](http://pubs.acs.org/doi/abs/10.1021/cr900095e) (section 1.1.3):"
   ]
  },
  {
   "cell_type": "markdown",
   "metadata": {},
   "source": [
    "    Normal mode analysis provides information on the equilibrium modes accessible to a system, assuming that the system is stabilized by harmonic potentials. It has been used for several decades in studying classical physical phenomena such as atomic vibrational spectra and transport in the solid state. Its application to proteins dates back to the early 1980s. However, only in the past decade has it become a tool widely used for exploring functional motions. A major reason behind its broader use is the observation that global modes elucidated by NMA bear functional significance. This feature became even more evident with the use of simplified models in coarse-grained (CG) NMA."
   ]
  },
  {
   "cell_type": "markdown",
   "metadata": {
    "slideshow": {
     "slide_type": "fragment"
    }
   },
   "source": [
    "One way to look at it: what are the energetically-favorable configurations of a macromolecule?"
   ]
  },
  {
   "cell_type": "markdown",
   "metadata": {},
   "source": [
    "These folded configurations of the protein(s) **have functional significance**, so it's very important to understand\n",
    "\n",
    " 1. what the folded configurations are, and\n",
    " 2. how the protein reaches those configurations"
   ]
  },
  {
   "cell_type": "markdown",
   "metadata": {
    "slideshow": {
     "slide_type": "slide"
    }
   },
   "source": [
    "### ProDy basics"
   ]
  },
  {
   "cell_type": "markdown",
   "metadata": {},
   "source": [
    "It's easy enough to get started: just import the base package."
   ]
  },
  {
   "cell_type": "code",
   "execution_count": 1,
   "metadata": {},
   "outputs": [],
   "source": [
    "import prody as pd  # Note: if you're a Pandas user, it has the same conventional abbreviation \"pd\", so be careful"
   ]
  },
  {
   "cell_type": "markdown",
   "metadata": {
    "slideshow": {
     "slide_type": "slide"
    }
   },
   "source": [
    "Most ProDy functions follow a specific naming convention:"
   ]
  },
  {
   "cell_type": "markdown",
   "metadata": {},
   "source": [
    " - an action verb, followed by\n",
    " - some kind of three-letter abbreviation of an object"
   ]
  },
  {
   "cell_type": "markdown",
   "metadata": {},
   "source": [
    "For example, a function that \"does something\" would be named in ProDy as **`doSTH`**"
   ]
  },
  {
   "cell_type": "markdown",
   "metadata": {
    "slideshow": {
     "slide_type": "slide"
    }
   },
   "source": [
    "Just a few examples directly from the ProDy package:"
   ]
  },
  {
   "cell_type": "markdown",
   "metadata": {},
   "source": [
    "  * `parseEXT()`: parse a file in EXT format, e.g. `parsePDB`, `parseDCD`\n",
    "  * `writeEXT()`: write a file in EXT format, e.g. `writePDB`, `writeDCD`\n",
    "  * `fetchSTH()`: download a file, e.g. `fetchPDB`, `fetchMSA`\n",
    "  * `calcSTH()`: calculate something, e.g. `calcRMSD`, `calcGyradius`, `calcANM`\n",
    "  * `showSTH()`: show a plotting of something, e.g. `showCrossCorrelations`, `showProtein`\n",
    "  * `saveSTH()`: save a ProDy object instance to disk, e.g. `saveAtoms`\n",
    "  * `loadSTH()`: save a ProDy object instance to disk, e.g. `loadAtoms`"
   ]
  },
  {
   "cell_type": "markdown",
   "metadata": {},
   "source": [
    "We'll touch on a few of these."
   ]
  },
  {
   "cell_type": "markdown",
   "metadata": {
    "slideshow": {
     "slide_type": "slide"
    }
   },
   "source": [
    "Let's dive in with an example, shall we?"
   ]
  },
  {
   "cell_type": "markdown",
   "metadata": {},
   "source": [
    "One of the coolest things about ProDy--when you request the structure information for a specific macromolecule, it will download that structure directly from the Protein Data Bank (remember PDB?):"
   ]
  },
  {
   "cell_type": "code",
   "execution_count": 2,
   "metadata": {},
   "outputs": [
    {
     "name": "stderr",
     "output_type": "stream",
     "text": [
      "@> PDB file is found in working directory (1ubi.pdb.gz).\n",
      "@> 683 atoms and 1 coordinate set(s) were parsed in 0.01s.\n"
     ]
    }
   ],
   "source": [
    "ubi = pd.parsePDB(\"1ubi\")"
   ]
  },
  {
   "cell_type": "markdown",
   "metadata": {},
   "source": [
    "How cool is that?!"
   ]
  },
  {
   "cell_type": "markdown",
   "metadata": {
    "slideshow": {
     "slide_type": "slide"
    }
   },
   "source": [
    "### PDB"
   ]
  },
  {
   "cell_type": "markdown",
   "metadata": {},
   "source": [
    "Recall from our last lecture: the Protein Data Bank is a website ( www.rcsb.org/pdb/home/home.do ), but the acronym **PDB** is the file format used by the website (and pretty much any researcher interested in protein structure) to describe the 3D structures of macromolecules."
   ]
  },
  {
   "cell_type": "markdown",
   "metadata": {},
   "source": [
    "![pdb-logo](MolecularDynamics/pdb-logo.png)"
   ]
  },
  {
   "cell_type": "markdown",
   "metadata": {},
   "source": [
    "Each macromolecule on the PDB is given a 4-digit descriptor; usually the first digit is a number, and the next three are letters related to the name of the protein."
   ]
  },
  {
   "cell_type": "markdown",
   "metadata": {
    "slideshow": {
     "slide_type": "slide"
    }
   },
   "source": [
    "In our code example, we used `1ubi`."
   ]
  },
  {
   "cell_type": "markdown",
   "metadata": {},
   "source": [
    "![1ubi-landing](MolecularDynamics/1ubi-landing.png)"
   ]
  },
  {
   "cell_type": "markdown",
   "metadata": {},
   "source": [
    "Note the wealth of information presented about this chromosomal protein--this even excludes all the literature hits below that cite the use of this macromolecule."
   ]
  },
  {
   "cell_type": "markdown",
   "metadata": {},
   "source": [
    "Also note the \"Download Files\" link in the upper right--this is where you can get the PDB files if you don't already have them."
   ]
  },
  {
   "cell_type": "markdown",
   "metadata": {},
   "source": [
    "On the other hand, if you're using ProDy, it will just download them for you!"
   ]
  },
  {
   "cell_type": "markdown",
   "metadata": {
    "slideshow": {
     "slide_type": "slide"
    }
   },
   "source": [
    "Back to ProDy! Since it went ahead and downloaded the PDB file for `1ubi` for us, let's take a look at what we have."
   ]
  },
  {
   "cell_type": "code",
   "execution_count": 3,
   "metadata": {},
   "outputs": [
    {
     "name": "stdout",
     "output_type": "stream",
     "text": [
      "AtomGroup 1ubi\n"
     ]
    }
   ],
   "source": [
    "print(ubi)"
   ]
  },
  {
   "cell_type": "code",
   "execution_count": 4,
   "metadata": {},
   "outputs": [
    {
     "name": "stdout",
     "output_type": "stream",
     "text": [
      "683\n"
     ]
    }
   ],
   "source": [
    "print(ubi.numAtoms())"
   ]
  },
  {
   "cell_type": "code",
   "execution_count": 5,
   "metadata": {},
   "outputs": [
    {
     "name": "stdout",
     "output_type": "stream",
     "text": [
      "12.085104173005442\n"
     ]
    }
   ],
   "source": [
    "print(pd.calcGyradius(ubi))  # This function calculates the radius of gyration of the atoms"
   ]
  },
  {
   "cell_type": "markdown",
   "metadata": {
    "slideshow": {
     "slide_type": "slide"
    }
   },
   "source": [
    "### File Handling"
   ]
  },
  {
   "cell_type": "markdown",
   "metadata": {},
   "source": [
    "If the internet isn't your thing, ProDy has its own formats for interacting with files on your hard drive."
   ]
  },
  {
   "cell_type": "code",
   "execution_count": 6,
   "metadata": {},
   "outputs": [
    {
     "data": {
      "text/plain": [
       "'1ubi.ag.npz'"
      ]
     },
     "execution_count": 6,
     "metadata": {},
     "output_type": "execute_result"
    }
   ],
   "source": [
    "pd.saveAtoms(ubi)"
   ]
  },
  {
   "cell_type": "markdown",
   "metadata": {},
   "source": [
    "You can also save to and load from more standard file formats, like PDB:"
   ]
  },
  {
   "cell_type": "code",
   "execution_count": 7,
   "metadata": {},
   "outputs": [
    {
     "data": {
      "text/plain": [
       "'ubi.pdb'"
      ]
     },
     "execution_count": 7,
     "metadata": {},
     "output_type": "execute_result"
    }
   ],
   "source": [
    "pd.writePDB(\"ubi.pdb\", ubi)  # Save to the file \"ubi.pdb\""
   ]
  },
  {
   "cell_type": "code",
   "execution_count": 8,
   "metadata": {},
   "outputs": [
    {
     "name": "stderr",
     "output_type": "stream",
     "text": [
      "@> 683 atoms and 1 coordinate set(s) were parsed in 0.01s.\n"
     ]
    },
    {
     "name": "stdout",
     "output_type": "stream",
     "text": [
      "AtomGroup ubi\n"
     ]
    }
   ],
   "source": [
    "ubi2 = pd.parsePDB(\"ubi.pdb\")  # Now read from it, just to test that it worked!\n",
    "print(ubi2)"
   ]
  },
  {
   "cell_type": "markdown",
   "metadata": {
    "slideshow": {
     "slide_type": "-"
    }
   },
   "source": [
    "The key point: if the argument you specify to `parsePDB` doesn't exist on your computer, then it'll connect to PDB directly to try and download it."
   ]
  },
  {
   "cell_type": "markdown",
   "metadata": {
    "slideshow": {
     "slide_type": "slide"
    }
   },
   "source": [
    "Note the *type* of the variable that comes back from a call to `parsePDB`:"
   ]
  },
  {
   "cell_type": "code",
   "execution_count": 9,
   "metadata": {},
   "outputs": [
    {
     "data": {
      "text/plain": [
       "prody.atomic.atomgroup.AtomGroup"
      ]
     },
     "execution_count": 9,
     "metadata": {},
     "output_type": "execute_result"
    }
   ],
   "source": [
    "type(ubi)"
   ]
  },
  {
   "cell_type": "markdown",
   "metadata": {},
   "source": [
    "Why `AtomGroup`?"
   ]
  },
  {
   "cell_type": "markdown",
   "metadata": {},
   "source": [
    " - not `Molecule`, because structures are usually made up from multiple molecules\n",
    " - not `Structure`, because PDB format is sometimes used for storing small-molecules\n",
    "  \n",
    "`AtomGroup` made sense for handling bunch of atoms, and is used by some other packages too."
   ]
  },
  {
   "cell_type": "markdown",
   "metadata": {
    "slideshow": {
     "slide_type": "slide"
    }
   },
   "source": [
    "### Some `AtomGroup` methods"
   ]
  },
  {
   "cell_type": "markdown",
   "metadata": {},
   "source": [
    "As we've seen, we can check on how many atoms there are:"
   ]
  },
  {
   "cell_type": "code",
   "execution_count": 10,
   "metadata": {},
   "outputs": [
    {
     "name": "stdout",
     "output_type": "stream",
     "text": [
      "683\n"
     ]
    }
   ],
   "source": [
    "print(ubi.numAtoms())"
   ]
  },
  {
   "cell_type": "code",
   "execution_count": 11,
   "metadata": {},
   "outputs": [
    {
     "name": "stderr",
     "output_type": "stream",
     "text": [
      "@> Connecting wwPDB FTP server RCSB PDB (USA).\n",
      "@> 1vrt downloaded (1vrt.pdb.gz)\n",
      "@> PDB download via FTP completed (1 downloaded, 0 failed).\n",
      "@> 7953 atoms and 1 coordinate set(s) were parsed in 0.07s.\n"
     ]
    },
    {
     "name": "stdout",
     "output_type": "stream",
     "text": [
      "7953\n"
     ]
    }
   ],
   "source": [
    "ag = pd.parsePDB('1vrt')\n",
    "print(ag.numAtoms())"
   ]
  },
  {
   "cell_type": "markdown",
   "metadata": {
    "slideshow": {
     "slide_type": "slide"
    }
   },
   "source": [
    "We can also ask for specific properties of the macromolecule."
   ]
  },
  {
   "cell_type": "code",
   "execution_count": 12,
   "metadata": {},
   "outputs": [
    {
     "name": "stdout",
     "output_type": "stream",
     "text": [
      "['N' 'CA' 'C' ... 'O' 'O' 'O']\n"
     ]
    }
   ],
   "source": [
    "names = ag.getNames()\n",
    "print(names)"
   ]
  },
  {
   "cell_type": "markdown",
   "metadata": {},
   "source": [
    "What do you think these are?"
   ]
  },
  {
   "cell_type": "code",
   "execution_count": 13,
   "metadata": {
    "slideshow": {
     "slide_type": "fragment"
    }
   },
   "outputs": [
    {
     "data": {
      "text/plain": [
       "7953"
      ]
     },
     "execution_count": 13,
     "metadata": {},
     "output_type": "execute_result"
    }
   ],
   "source": [
    "len(names)"
   ]
  },
  {
   "cell_type": "code",
   "execution_count": 14,
   "metadata": {
    "slideshow": {
     "slide_type": "fragment"
    }
   },
   "outputs": [
    {
     "data": {
      "text/plain": [
       "numpy.ndarray"
      ]
     },
     "execution_count": 14,
     "metadata": {},
     "output_type": "execute_result"
    }
   ],
   "source": [
    "type(names)"
   ]
  },
  {
   "cell_type": "markdown",
   "metadata": {},
   "source": [
    "Oh hey, we recognize that!"
   ]
  },
  {
   "cell_type": "markdown",
   "metadata": {
    "slideshow": {
     "slide_type": "slide"
    }
   },
   "source": [
    "We could ask for more detail on the macromolecule, such as its location in space:"
   ]
  },
  {
   "cell_type": "code",
   "execution_count": 15,
   "metadata": {},
   "outputs": [
    {
     "name": "stdout",
     "output_type": "stream",
     "text": [
      "[[ 15.287 -59.293  35.335]\n",
      " [ 15.16  -58.082  36.18 ]\n",
      " [ 15.828 -56.998  35.357]\n",
      " ...\n",
      " [ 33.12   -9.865  17.954]\n",
      " [ 34.519 -12.765  19.01 ]\n",
      " [ 45.687  -3.841  -0.901]]\n"
     ]
    }
   ],
   "source": [
    "coords = ag.getCoords()\n",
    "print(coords)"
   ]
  },
  {
   "cell_type": "code",
   "execution_count": 16,
   "metadata": {},
   "outputs": [
    {
     "name": "stdout",
     "output_type": "stream",
     "text": [
      "(7953, 3)\n"
     ]
    }
   ],
   "source": [
    "print(coords.shape)"
   ]
  },
  {
   "cell_type": "markdown",
   "metadata": {
    "slideshow": {
     "slide_type": "fragment"
    }
   },
   "source": [
    "(Would you be able to compute the generalized coordinates of this macromolecule?)"
   ]
  },
  {
   "cell_type": "markdown",
   "metadata": {
    "slideshow": {
     "slide_type": "slide"
    }
   },
   "source": [
    "### `Atom` instances"
   ]
  },
  {
   "cell_type": "markdown",
   "metadata": {},
   "source": [
    "You can get the names of all the atoms in the macromolecule via the `getNames` method, but you can also index the macromolecule *directly* as though it were an array:"
   ]
  },
  {
   "cell_type": "code",
   "execution_count": 17,
   "metadata": {},
   "outputs": [
    {
     "name": "stdout",
     "output_type": "stream",
     "text": [
      "Atom N (index 0)\n"
     ]
    }
   ],
   "source": [
    "a0 = ag[0]\n",
    "print(a0)"
   ]
  },
  {
   "cell_type": "code",
   "execution_count": 18,
   "metadata": {},
   "outputs": [
    {
     "name": "stdout",
     "output_type": "stream",
     "text": [
      "N\n"
     ]
    }
   ],
   "source": [
    "print(a0.getName())"
   ]
  },
  {
   "cell_type": "markdown",
   "metadata": {
    "slideshow": {
     "slide_type": "slide"
    }
   },
   "source": [
    "Taking that same thinking further, we can even slice out subgroups of atoms from the macromolecule:"
   ]
  },
  {
   "cell_type": "code",
   "execution_count": 19,
   "metadata": {},
   "outputs": [
    {
     "name": "stdout",
     "output_type": "stream",
     "text": [
      "Selection 'index 0:7953:2'\n"
     ]
    }
   ],
   "source": [
    "every_other_atom = ag[::2]\n",
    "print(every_other_atom)"
   ]
  },
  {
   "cell_type": "markdown",
   "metadata": {},
   "source": [
    "The type is a `Selection` object, but we can see that we get what we'd expect:"
   ]
  },
  {
   "cell_type": "code",
   "execution_count": 20,
   "metadata": {},
   "outputs": [
    {
     "name": "stdout",
     "output_type": "stream",
     "text": [
      "3977\n",
      "7953\n"
     ]
    }
   ],
   "source": [
    "print(len(every_other_atom))\n",
    "print(len(ag))"
   ]
  },
  {
   "cell_type": "markdown",
   "metadata": {
    "slideshow": {
     "slide_type": "slide"
    }
   },
   "source": [
    "### ProDy Hierarchy"
   ]
  },
  {
   "cell_type": "markdown",
   "metadata": {},
   "source": [
    "Atoms, structures, residues... all terms we understand from a biological perspective, but how do they play into ProDy?"
   ]
  },
  {
   "cell_type": "markdown",
   "metadata": {},
   "source": [
    "ProDy arranges these concepts into a hierarchy within a macromolecule. The hierarchy looks something like this:"
   ]
  },
  {
   "cell_type": "markdown",
   "metadata": {},
   "source": [
    " - `Atom`: lowest level of the hierarchy\n",
    " - Residue: an amino acid, nucleotide, small molecule, or ion\n",
    " - Chain: a polypeptide or nucleic acid chain\n",
    " - Segment: used by simulation programs and comprise multiple chains"
   ]
  },
  {
   "cell_type": "code",
   "execution_count": 21,
   "metadata": {},
   "outputs": [
    {
     "name": "stdout",
     "output_type": "stream",
     "text": [
      "2\n"
     ]
    }
   ],
   "source": [
    "print(ag.numChains())"
   ]
  },
  {
   "cell_type": "code",
   "execution_count": 22,
   "metadata": {},
   "outputs": [
    {
     "name": "stdout",
     "output_type": "stream",
     "text": [
      "1233\n"
     ]
    }
   ],
   "source": [
    "print(ag.numResidues())"
   ]
  },
  {
   "cell_type": "markdown",
   "metadata": {
    "slideshow": {
     "slide_type": "slide"
    }
   },
   "source": [
    "We can set up a loop to iterate through the chains, using the `iterChains` method:"
   ]
  },
  {
   "cell_type": "code",
   "execution_count": 23,
   "metadata": {},
   "outputs": [
    {
     "name": "stdout",
     "output_type": "stream",
     "text": [
      "Chain A 688\n",
      "Chain B 545\n"
     ]
    }
   ],
   "source": [
    "# Printing out each chain and the number of residues each has.\n",
    "for chain in ag.iterChains():\n",
    "    print(chain, chain.numResidues())"
   ]
  },
  {
   "cell_type": "code",
   "execution_count": 24,
   "metadata": {
    "slideshow": {
     "slide_type": "slide"
    }
   },
   "outputs": [
    {
     "name": "stdout",
     "output_type": "stream",
     "text": [
      "Chain A\n",
      " | -  PRO 4\n",
      " | -  ILE 5\n",
      " | -  GLU 6\n",
      " | -  THR 7\n",
      " | -  VAL 8\n",
      " | -  PRO 9\n",
      " | -  VAL 10\n",
      " | -  LYS 11\n",
      " | -  LEU 12\n",
      " | -  LYS 13\n",
      "...\n",
      "Chain B\n",
      " | -  ILE 5\n",
      " | -  GLU 6\n",
      " | -  THR 7\n",
      " | -  VAL 8\n",
      " | -  PRO 9\n",
      " | -  VAL 10\n",
      " | -  LYS 11\n",
      " | -  LEU 12\n",
      " | -  LYS 13\n",
      " | -  PRO 14\n",
      "...\n"
     ]
    }
   ],
   "source": [
    "# Here, we'll print out each chain and their first 10 residues.\n",
    "for chain in ag.iterChains():\n",
    "    print(chain)\n",
    "    residues = 0\n",
    "    for residue in chain:  # We can also loop through residues on a chain!\n",
    "        print(' | - ', residue)\n",
    "        residues += 1\n",
    "        if residues >= 10: break\n",
    "    print(\"...\")"
   ]
  },
  {
   "cell_type": "markdown",
   "metadata": {
    "slideshow": {
     "slide_type": "slide"
    }
   },
   "source": [
    "Other methods for looping over structures in a macromolecule:"
   ]
  },
  {
   "cell_type": "markdown",
   "metadata": {},
   "source": [
    " - `iterAtoms`\n",
    " - `iterBonds`\n",
    " - `iterCoordsets`\n",
    " - `iterFragments`\n",
    " - `iterSegments`"
   ]
  },
  {
   "cell_type": "markdown",
   "metadata": {
    "slideshow": {
     "slide_type": "slide"
    }
   },
   "source": [
    "**Two time-saving asides:**\n",
    "\n",
    " 1. In Jupyter, you can TAB-complete with partial function names to see the list of all the functions available to you.\n",
    " 2. Also in Jupyter, you can type out a function name, but at the end, put a question mark `?` and hit ENTER. This will bring up the documentation for how to use that function."
   ]
  },
  {
   "cell_type": "markdown",
   "metadata": {
    "slideshow": {
     "slide_type": "slide"
    }
   },
   "source": [
    "### Selection Grammar"
   ]
  },
  {
   "cell_type": "markdown",
   "metadata": {},
   "source": [
    "This is a very complicated, but *very powerful*, interface to searching for specific properties of your molecule. We won't spend a lot of time here, but this basically allows you to search for specific atoms, residues, or chains using plain English:"
   ]
  },
  {
   "cell_type": "code",
   "execution_count": 25,
   "metadata": {
    "slideshow": {
     "slide_type": "slide"
    }
   },
   "outputs": [
    {
     "name": "stdout",
     "output_type": "stream",
     "text": [
      "Selection 'protein and name CA'\n",
      "925\n"
     ]
    }
   ],
   "source": [
    "# Select all the alpha Carbon atoms\n",
    "sel = ag.select(\"protein and name CA\")\n",
    "print(sel)\n",
    "print(sel.numAtoms())"
   ]
  },
  {
   "cell_type": "code",
   "execution_count": 26,
   "metadata": {
    "slideshow": {
     "slide_type": "slide"
    }
   },
   "outputs": [
    {
     "data": {
      "text/plain": [
       "True"
      ]
     },
     "execution_count": 26,
     "metadata": {},
     "output_type": "execute_result"
    }
   ],
   "source": [
    "# Shorthand \n",
    "sel2 = ag.select(\"calpha\")\n",
    "sel3 = ag.select(\"ca\")\n",
    "sel2 == sel3"
   ]
  },
  {
   "cell_type": "markdown",
   "metadata": {
    "slideshow": {
     "slide_type": "slide"
    }
   },
   "source": [
    "You can also select atoms or residues by proximity:"
   ]
  },
  {
   "cell_type": "code",
   "execution_count": 27,
   "metadata": {},
   "outputs": [
    {
     "name": "stdout",
     "output_type": "stream",
     "text": [
      "Selection 'index 3444 to 3445'\n",
      "[4.04402732 4.18061778]\n"
     ]
    }
   ],
   "source": [
    "import numpy as np\n",
    "origin = np.zeros(3)\n",
    "\n",
    "sel = ag.select(\"within 5 of origin\", origin = origin)\n",
    "print(sel)\n",
    "print(pd.calcDistance(sel, origin))"
   ]
  },
  {
   "cell_type": "code",
   "execution_count": 28,
   "metadata": {
    "slideshow": {
     "slide_type": "slide"
    }
   },
   "outputs": [
    {
     "name": "stdout",
     "output_type": "stream",
     "text": [
      "Selection 'index 4457 to 4...49 to 7353 7941'\n"
     ]
    }
   ],
   "source": [
    "sel = ag.select(\"within 5 of center\", center = pd.calcCenter(ag))\n",
    "print(sel)"
   ]
  },
  {
   "cell_type": "code",
   "execution_count": 29,
   "metadata": {
    "slideshow": {
     "slide_type": "fragment"
    }
   },
   "outputs": [
    {
     "data": {
      "text/plain": [
       "<Selection: 'calpha' from 1vrt (925 atoms)>"
      ]
     },
     "execution_count": 29,
     "metadata": {},
     "output_type": "execute_result"
    }
   ],
   "source": [
    "# You can even use dot-selection shorthand, instead of the \"select\" method!\n",
    "ag.calpha"
   ]
  },
  {
   "cell_type": "code",
   "execution_count": 30,
   "metadata": {
    "slideshow": {
     "slide_type": "fragment"
    }
   },
   "outputs": [
    {
     "data": {
      "text/plain": [
       "<Selection: 'name CA and resname ALA' from 1vrt (37 atoms)>"
      ]
     },
     "execution_count": 30,
     "metadata": {},
     "output_type": "execute_result"
    }
   ],
   "source": [
    "ag.name_CA_and_resname_ALA"
   ]
  },
  {
   "cell_type": "markdown",
   "metadata": {},
   "source": [
    "See the full documentation on selection grammar here: http://csb.pitt.edu/ProDy/reference/atomic/select.html"
   ]
  },
  {
   "cell_type": "markdown",
   "metadata": {
    "slideshow": {
     "slide_type": "slide"
    }
   },
   "source": [
    "### Chain Matching and RMSD"
   ]
  },
  {
   "cell_type": "markdown",
   "metadata": {},
   "source": [
    "ProDy will even try to find matching portions of chains in macromolecules, and align one macromolecule to another."
   ]
  },
  {
   "cell_type": "code",
   "execution_count": 31,
   "metadata": {
    "slideshow": {
     "slide_type": "slide"
    }
   },
   "outputs": [
    {
     "name": "stderr",
     "output_type": "stream",
     "text": [
      "@> Connecting wwPDB FTP server RCSB PDB (USA).\n",
      "@> 5uoj downloaded (5uoj.pdb.gz)\n",
      "@> PDB download via FTP completed (1 downloaded, 0 failed).\n",
      "@> 3138 atoms and 1 coordinate set(s) were parsed in 0.03s.\n",
      "@> Connecting wwPDB FTP server RCSB PDB (USA).\n",
      "@> 1zz2 downloaded (1zz2.pdb.gz)\n",
      "@> PDB download via FTP completed (1 downloaded, 0 failed).\n",
      "@> 2872 atoms and 1 coordinate set(s) were parsed in 0.03s.\n",
      "@> Checking AtomGroup 5uoj: 1 chains are identified\n",
      "@> Checking AtomGroup 1zz2: 1 chains are identified\n",
      "@> Trying to match chains based on residue numbers and names:\n",
      "@>   Comparing Chain A from 5uoj (len=343) and Chain A from 1zz2 (len=337):\n",
      "@> \tMatch: 337 residues match with 99% sequence identity and 98% overlap.\n"
     ]
    },
    {
     "name": "stdout",
     "output_type": "stream",
     "text": [
      "1\n",
      "AtomMap Chain A from 1zz2 -> Chain A from 5uoj\n",
      "99.40652818991099\n",
      "98.25072886297376\n"
     ]
    }
   ],
   "source": [
    "p38 = pd.parsePDB(\"5uoj\")\n",
    "bound = pd.parsePDB(\"1zz2\")\n",
    "\n",
    "matches = pd.matchChains(p38, bound)\n",
    "print(len(matches))\n",
    "p38_ch, bnd_ch, seqid, seqov = matches[0]\n",
    "\n",
    "print(bnd_ch)\n",
    "print(seqid)\n",
    "print(seqov)"
   ]
  },
  {
   "cell_type": "markdown",
   "metadata": {
    "slideshow": {
     "slide_type": "slide"
    }
   },
   "source": [
    "`matchChains` takes 2 arguments: two `AtomGroup` objects to compare."
   ]
  },
  {
   "cell_type": "markdown",
   "metadata": {},
   "source": [
    "It returns however many matches it finds (in our example, only 1)."
   ]
  },
  {
   "cell_type": "markdown",
   "metadata": {},
   "source": [
    "Each returned match contains 4 values:\n",
    "\n",
    " 1. the matching chain from the first argument\n",
    " 2. the matching chain from the second argument\n",
    " 3. percent identity of the match\n",
    " 4. percent sequence overlap of the match"
   ]
  },
  {
   "cell_type": "markdown",
   "metadata": {
    "slideshow": {
     "slide_type": "slide"
    }
   },
   "source": [
    "We can then use the matching chains from the two proteins to perform an *alignment*: finding a pose of one of the chains with respect to the other one."
   ]
  },
  {
   "cell_type": "markdown",
   "metadata": {},
   "source": [
    "Right now, even though these chains match, they don't align very well:"
   ]
  },
  {
   "cell_type": "code",
   "execution_count": 32,
   "metadata": {},
   "outputs": [
    {
     "name": "stdout",
     "output_type": "stream",
     "text": [
      "72.93561517918914\n"
     ]
    }
   ],
   "source": [
    "print(pd.calcRMSD(p38_ch, bnd_ch))"
   ]
  },
  {
   "cell_type": "markdown",
   "metadata": {},
   "source": [
    "Recall our discussion of [RMSD (Root Mean Squared Deviation)](https://en.wikipedia.org/wiki/Root-mean-square_deviation) from the previous lecture--it's basically the Euclidean distance between corresponding points in 3D space."
   ]
  },
  {
   "cell_type": "markdown",
   "metadata": {},
   "source": [
    "We have an alignment of these chains from the `matchChains` function, but they differ considerably in terms of their physical, spatial poses. Here, we want to ask if their structure--while similar, not identical--allows them to overlap even in space."
   ]
  },
  {
   "cell_type": "markdown",
   "metadata": {
    "slideshow": {
     "slide_type": "slide"
    }
   },
   "source": [
    "We can use the function `superpose` to create a *superposition* of these chains.\n",
    " - The first argument is considered the *mobile* chain\n",
    " - The second argument is considered the *target*, or fixed, chain"
   ]
  },
  {
   "cell_type": "code",
   "execution_count": 33,
   "metadata": {},
   "outputs": [
    {
     "name": "stdout",
     "output_type": "stream",
     "text": [
      "1.824805328501969\n"
     ]
    }
   ],
   "source": [
    "bnd_ch, transformation = pd.superpose(bnd_ch, p38_ch)\n",
    "print(pd.calcRMSD(bnd_ch, p38_ch))"
   ]
  },
  {
   "cell_type": "markdown",
   "metadata": {},
   "source": [
    "Much better!"
   ]
  },
  {
   "cell_type": "markdown",
   "metadata": {
    "slideshow": {
     "slide_type": "slide"
    }
   },
   "source": [
    "### Dynamics Analysis"
   ]
  },
  {
   "cell_type": "markdown",
   "metadata": {},
   "source": [
    "ProDy can even perform some analysis of molecular dynamics."
   ]
  },
  {
   "cell_type": "markdown",
   "metadata": {},
   "source": [
    "PDB has some more complicated macromolecules that include several conformers of the same protein, called an *ensemble*. This is basically a fancy term for \"set of molecules that are the same but in different spatial poses\"--as in, what you'd get from the output of an MD simulation."
   ]
  },
  {
   "cell_type": "code",
   "execution_count": 34,
   "metadata": {
    "slideshow": {
     "slide_type": "fragment"
    }
   },
   "outputs": [
    {
     "name": "stderr",
     "output_type": "stream",
     "text": [
      "@> Connecting wwPDB FTP server RCSB PDB (USA).\n",
      "@> 2lz3 downloaded (2lz3.pdb.gz)\n",
      "@> PDB download via FTP completed (1 downloaded, 0 failed).\n",
      "@> 890 atoms and 21 coordinate set(s) were parsed in 0.05s.\n"
     ]
    }
   ],
   "source": [
    "ubi = pd.parsePDB('2lz3')"
   ]
  },
  {
   "cell_type": "markdown",
   "metadata": {
    "slideshow": {
     "slide_type": "slide"
    }
   },
   "source": [
    "There are 21 conformers in this single file (PDB predicts there are 200 total for this molecule!). ProDy will recognize the ensemble nature, though, if we run the following:"
   ]
  },
  {
   "cell_type": "code",
   "execution_count": 35,
   "metadata": {},
   "outputs": [
    {
     "data": {
      "text/plain": [
       "<Ensemble: Selection 'calpha' (21 conformations; 56 atoms)>"
      ]
     },
     "execution_count": 35,
     "metadata": {},
     "output_type": "execute_result"
    }
   ],
   "source": [
    "ubi_ensemble = pd.Ensemble(ubi.calpha)  # Why calpha?\n",
    "ubi_ensemble"
   ]
  },
  {
   "cell_type": "markdown",
   "metadata": {
    "slideshow": {
     "slide_type": "slide"
    }
   },
   "source": [
    "The next step is to minimize the differences between each conformer."
   ]
  },
  {
   "cell_type": "code",
   "execution_count": 36,
   "metadata": {},
   "outputs": [
    {
     "name": "stdout",
     "output_type": "stream",
     "text": [
      "[ 0.          0.57284285 11.2888741  11.30148863 11.41711493 11.42144298\n",
      " 10.4172007  11.51701601 11.08908232 11.2744685  12.12013664  8.95550005\n",
      " 11.33651164 11.56495638  1.3928204   8.95476071 10.8293237   2.92029743\n",
      "  3.05175372  0.80874764 11.09695638]\n"
     ]
    }
   ],
   "source": [
    "print(ubi_ensemble.getRMSDs())"
   ]
  },
  {
   "cell_type": "markdown",
   "metadata": {
    "slideshow": {
     "slide_type": "slide"
    }
   },
   "source": [
    "Initially, the conformers aren't aligned; their respective RMSDs to some reference (by default, the first one; hence its RMSD is 0) is decently high.\n",
    "\n",
    "We can fix this with the `interpose` function:"
   ]
  },
  {
   "cell_type": "code",
   "execution_count": 37,
   "metadata": {},
   "outputs": [
    {
     "name": "stderr",
     "output_type": "stream",
     "text": [
      "@> Starting iterative superposition:\n",
      "@> Step #1: RMSD difference = 3.0662e-01\n",
      "@> Step #2: RMSD difference = 1.1445e-03\n",
      "@> Step #3: RMSD difference = 8.5349e-06\n",
      "@> Iterative superposition completed in 0.02s.\n"
     ]
    },
    {
     "name": "stdout",
     "output_type": "stream",
     "text": [
      "[0.30724894 0.62161435 0.51387945 0.48827789 0.51220688 0.5098784\n",
      " 0.7197639  0.48183284 0.65930875 0.67412375 0.72184456 0.58774651\n",
      " 0.7169057  0.92771202 1.25304616 0.75040665 1.54425363 0.96984149\n",
      " 0.92221827 0.66109219 0.67394524]\n"
     ]
    }
   ],
   "source": [
    "ubi_ensemble.iterpose()  # This performs an iterative alignment.\n",
    "\n",
    "print(ubi_ensemble.getRMSDs())  # Did that improve things any?"
   ]
  },
  {
   "cell_type": "markdown",
   "metadata": {
    "slideshow": {
     "slide_type": "slide"
    }
   },
   "source": [
    "Once we've aligned the conformers, we can do some analysis. Remember PCA?"
   ]
  },
  {
   "cell_type": "code",
   "execution_count": 38,
   "metadata": {},
   "outputs": [
    {
     "name": "stderr",
     "output_type": "stream",
     "text": [
      "@> Covariance is calculated using 21 coordinate sets.\n",
      "@> Covariance matrix calculated in 0.010749s.\n"
     ]
    },
    {
     "name": "stdout",
     "output_type": "stream",
     "text": [
      "(168, 168)\n"
     ]
    }
   ],
   "source": [
    "pca = pd.PCA()\n",
    "\n",
    "pca.buildCovariance(ubi_ensemble)\n",
    "cov = pca.getCovariance()\n",
    "print(cov.shape)"
   ]
  },
  {
   "cell_type": "code",
   "execution_count": 40,
   "metadata": {
    "slideshow": {
     "slide_type": "slide"
    }
   },
   "outputs": [
    {
     "data": {
      "text/plain": [
       "<matplotlib.colorbar.Colorbar at 0x1a20c399e8>"
      ]
     },
     "execution_count": 40,
     "metadata": {},
     "output_type": "execute_result"
    },
    {
     "data": {
      "image/png": "[encoded data removed]",
      "text/plain": [
       "<Figure size 432x288 with 2 Axes>"
      ]
     },
     "metadata": {
      "needs_background": "light"
     },
     "output_type": "display_data"
    }
   ],
   "source": [
    "%matplotlib inline\n",
    "import matplotlib.pyplot as plt\n",
    "\n",
    "plt.imshow(cov, cmap = 'Blues')\n",
    "plt.colorbar()"
   ]
  },
  {
   "cell_type": "markdown",
   "metadata": {
    "slideshow": {
     "slide_type": "slide"
    }
   },
   "source": [
    "Initial results don't tell us a whole lot, except that there seem to be some parts of the ensemble that are positively correlated, and some negatively correlated. Let's dig in a bit more."
   ]
  },
  {
   "cell_type": "code",
   "execution_count": 41,
   "metadata": {},
   "outputs": [
    {
     "name": "stderr",
     "output_type": "stream",
     "text": [
      "@> 20 modes were calculated in 0.02s.\n"
     ]
    }
   ],
   "source": [
    "pca.calcModes()  # Performs the actual PCA analysis."
   ]
  },
  {
   "cell_type": "markdown",
   "metadata": {},
   "source": [
    "Now that we've calculated the modes--or *principal components!*--we can see everything that we discussed in the previous lecture."
   ]
  },
  {
   "cell_type": "markdown",
   "metadata": {
    "slideshow": {
     "slide_type": "slide"
    }
   },
   "source": [
    "For starters, let's look at the eigenvalues."
   ]
  },
  {
   "cell_type": "code",
   "execution_count": 42,
   "metadata": {},
   "outputs": [
    {
     "data": {
      "text/plain": [
       "[<matplotlib.lines.Line2D at 0x1a20d4add8>]"
      ]
     },
     "execution_count": 42,
     "metadata": {},
     "output_type": "execute_result"
    },
    {
     "data": {
      "image/png": "[encoded data removed]",
      "text/plain": [
       "<Figure size 432x288 with 1 Axes>"
      ]
     },
     "metadata": {
      "needs_background": "light"
     },
     "output_type": "display_data"
    }
   ],
   "source": [
    "plt.plot(pca.getEigvals())"
   ]
  },
  {
   "cell_type": "markdown",
   "metadata": {
    "slideshow": {
     "slide_type": "slide"
    }
   },
   "source": [
    "Remember what we said about how PCA works: it rotates the data such that each dimension / axis of the data contains a certain amount of the original *variance*."
   ]
  },
  {
   "cell_type": "markdown",
   "metadata": {},
   "source": [
    "PCA then returns to us the new axes of the data (as the eigenvectors), and the relative contributions (or importance) of each axis to the data (as the eigenvalues)."
   ]
  },
  {
   "cell_type": "markdown",
   "metadata": {},
   "source": [
    "Therefore, rather than retain all the data, we can just keep the top handful of dimensions, as specified by the eigenvalues--which quantify precisely how much each dimension \"counts\"."
   ]
  },
  {
   "cell_type": "code",
   "execution_count": 43,
   "metadata": {
    "slideshow": {
     "slide_type": "slide"
    }
   },
   "outputs": [
    {
     "name": "stdout",
     "output_type": "stream",
     "text": [
      "0.54\n",
      "0.25\n",
      "0.08\n",
      "0.05\n",
      "0.02\n",
      "0.02\n",
      "0.01\n",
      "0.01\n",
      "0.01\n",
      "0.0\n",
      "0.0\n",
      "0.0\n",
      "0.0\n",
      "0.0\n",
      "0.0\n",
      "0.0\n",
      "0.0\n",
      "0.0\n",
      "0.0\n",
      "0.0\n"
     ]
    }
   ],
   "source": [
    "for mode in pca:\n",
    "    print(pd.calcFractVariance(mode).round(2))"
   ]
  },
  {
   "cell_type": "markdown",
   "metadata": {},
   "source": [
    " - The first dimension *alone* contains over half the variance in the original data.\n",
    " - Include the second dimension, and you already have nearly 80% of the original variance.\n",
    " - With just the *first four dimensions*, you have nearly 95% of the original variance with but a tiny fraction of the original quantity of data."
   ]
  },
  {
   "cell_type": "markdown",
   "metadata": {
    "slideshow": {
     "slide_type": "slide"
    }
   },
   "source": [
    "Put another way, **these first four modes explain 95% of the motion observed in the molecular ensemble**. Unless you're interested in really super-high frequency movement, this will probably be sufficient for future analyses."
   ]
  },
  {
   "cell_type": "markdown",
   "metadata": {
    "slideshow": {
     "slide_type": "slide"
    }
   },
   "source": [
    "We can also use the eigenvectors that were computed to look at the fluctuations in each atom."
   ]
  },
  {
   "cell_type": "code",
   "execution_count": 44,
   "metadata": {},
   "outputs": [
    {
     "data": {
      "text/plain": [
       "[([<matplotlib.lines.Line2D at 0x1a20d9d080>], [], [], [])]"
      ]
     },
     "execution_count": 44,
     "metadata": {},
     "output_type": "execute_result"
    },
    {
     "data": {
      "image/png": "[encoded data removed]",
      "text/plain": [
       "<Figure size 432x288 with 1 Axes>"
      ]
     },
     "metadata": {
      "needs_background": "light"
     },
     "output_type": "display_data"
    }
   ],
   "source": [
    "pd.showSqFlucts(pca)"
   ]
  },
  {
   "cell_type": "markdown",
   "metadata": {
    "slideshow": {
     "slide_type": "-"
    }
   },
   "source": [
    "Of the nearly-60 atoms in the chains, the atoms around certain indices move quite a bit more than the others."
   ]
  },
  {
   "cell_type": "markdown",
   "metadata": {
    "slideshow": {
     "slide_type": "slide"
    }
   },
   "source": [
    "ProDy even comes with a neat projection visualization to view RMSDs for each mode."
   ]
  },
  {
   "cell_type": "code",
   "execution_count": 45,
   "metadata": {},
   "outputs": [
    {
     "data": {
      "text/plain": [
       "<mpl_toolkits.mplot3d.axes3d.Axes3D at 0x1a246318d0>"
      ]
     },
     "execution_count": 45,
     "metadata": {},
     "output_type": "execute_result"
    },
    {
     "data": {
      "image/png": "[encoded data removed]",
      "text/plain": [
       "<Figure size 432x288 with 1 Axes>"
      ]
     },
     "metadata": {
      "needs_background": "light"
     },
     "output_type": "display_data"
    }
   ],
   "source": [
    "pd.showProjection(ubi_ensemble, pca[:3])  # The first 3 principal components"
   ]
  },
  {
   "cell_type": "markdown",
   "metadata": {
    "slideshow": {
     "slide_type": "slide"
    }
   },
   "source": [
    "## This is all great, but..."
   ]
  },
  {
   "cell_type": "markdown",
   "metadata": {
    "slideshow": {
     "slide_type": "fragment"
    }
   },
   "source": [
    "I want to actually *generate* MD simulation data!"
   ]
  },
  {
   "cell_type": "markdown",
   "metadata": {
    "slideshow": {
     "slide_type": "slide"
    }
   },
   "source": [
    "Well, ProDy isn't really for that. However, quite a few other tools are:"
   ]
  },
  {
   "cell_type": "markdown",
   "metadata": {
    "slideshow": {
     "slide_type": "fragment"
    }
   },
   "source": [
    "Amber [http://ambermd.org](http://ambermd.org)\n",
    "\n",
    "* Very fast GPU implementation\n",
    "\n",
    "Gromacs [http://www.gromacs.org](http://www.gromacs.org)\n",
    "\n",
    "* Open-source (LGPL)\n",
    "\n",
    "NAMD [http://www.ks.uiuc.edu/Research/namd/](http://www.ks.uiuc.edu/Research/namd/)\n",
    "\n",
    "* Highly optimized for cluster computing\n",
    "* Integrated with VMD\n",
    "\n",
    "LAMMPS [http://lammps.sandia.gov](http://lammps.sandia.gov)\n",
    "\n",
    "* Open-source (GPL)\n",
    "\n",
    "MDAnalysis [http://www.mdanalysis.org/](http://www.mdanalysis.org/)\n",
    "\n",
    " - Very easy to get up and running; tight integration with NumPy\n",
    " - Similar naming conventions to ProDy\n",
    " - For analysis of MD trajectories"
   ]
  },
  {
   "cell_type": "markdown",
   "metadata": {
    "slideshow": {
     "slide_type": "slide"
    }
   },
   "source": [
    "## Administrivia"
   ]
  },
  {
   "cell_type": "markdown",
   "metadata": {
    "slideshow": {
     "slide_type": "-"
    }
   },
   "source": [
    " - **How is Assignment 5 going?** Due in a week!"
   ]
  },
  {
   "cell_type": "markdown",
   "metadata": {},
   "source": [
    " - Final project proposals are due **tomorrow!**"
   ]
  },
  {
   "cell_type": "markdown",
   "metadata": {
    "slideshow": {
     "slide_type": "slide"
    }
   },
   "source": [
    "## Additional Resources\n",
    "\n"
   ]
  },
  {
   "cell_type": "markdown",
   "metadata": {},
   "source": [
    " - ProDy http://prody.csb.pitt.edu/\n",
    " - PyMol for Beginners https://pymolwiki.org/index.php/Practical_Pymol_for_Beginners\n",
    " - PyMol cheat sheet http://pymolwiki.org/index.php/CheatSheet \n",
    " - Protein Data Bank http://www.rcsb.org/pdb/home/home.do"
   ]
  }
 ],
 "metadata": {
  "anaconda-cloud": {},
  "celltoolbar": "Slideshow",
  "kernelspec": {
   "display_name": "Python (cbio)",
   "language": "python",
   "name": "cbio"
  },
  "language_info": {
   "codemirror_mode": {
    "name": "ipython",
    "version": 3
   },
   "file_extension": ".py",
   "mimetype": "text/x-python",
   "name": "python",
   "nbconvert_exporter": "python",
   "pygments_lexer": "ipython3",
   "version": "3.6.10"
  }
 },
 "nbformat": 4,
 "nbformat_minor": 1
}
